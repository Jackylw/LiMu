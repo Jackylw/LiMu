{
 "cells": [
  {
   "cell_type": "code",
   "id": "initial_id",
   "metadata": {
    "collapsed": true,
    "ExecuteTime": {
     "end_time": "2025-09-30T07:51:55.527664Z",
     "start_time": "2025-09-30T07:51:51.578467Z"
    }
   },
   "source": [
    "# 生成数据集\n",
    "import numpy as np\n",
    "import torch\n",
    "from torch.utils import data\n",
    "from d2l import torch as d2l\n",
    "\n",
    "true_w = torch.tensor([2, -3.4])\n",
    "true_b = 4.2\n",
    "features, labels = d2l.synthetic_data(true_w, true_b, 1000)"
   ],
   "outputs": [],
   "execution_count": 1
  },
  {
   "metadata": {
    "ExecuteTime": {
     "end_time": "2025-09-30T07:52:42.740683Z",
     "start_time": "2025-09-30T07:52:42.736939Z"
    }
   },
   "cell_type": "code",
   "source": [
    "# 读取数据集\n",
    "def load_array(data_arrays, batch_size, is_train=True):\n",
    "    dataset = data.TensorDataset(*data_arrays)\n",
    "    return data.DataLoader(dataset, batch_size, shuffle=is_train)\n",
    "\n",
    "batch_size = 10\n",
    "data_iter = load_array((features, labels), batch_size)"
   ],
   "id": "ac10afb146dc7bc1",
   "outputs": [],
   "execution_count": 2
  },
  {
   "metadata": {
    "ExecuteTime": {
     "end_time": "2025-09-30T07:53:36.599095Z",
     "start_time": "2025-09-30T07:53:36.591413Z"
    }
   },
   "cell_type": "code",
   "source": "next(iter(data_iter))",
   "id": "f0352836ab9d6e2b",
   "outputs": [
    {
     "data": {
      "text/plain": [
       "[tensor([[-1.2994,  0.1319],\n",
       "         [ 0.2394,  0.9319],\n",
       "         [-0.8668, -1.2759],\n",
       "         [ 0.2701, -1.6087],\n",
       "         [ 2.2110, -2.1228],\n",
       "         [ 0.4769, -0.4557],\n",
       "         [ 0.6393, -1.1302],\n",
       "         [-1.4977,  0.7886],\n",
       "         [-0.8268,  1.0453],\n",
       "         [ 1.1817,  0.8010]]),\n",
       " tensor([[ 1.1589],\n",
       "         [ 1.5092],\n",
       "         [ 6.7932],\n",
       "         [10.2068],\n",
       "         [15.8303],\n",
       "         [ 6.7000],\n",
       "         [ 9.3117],\n",
       "         [-1.4675],\n",
       "         [-1.0033],\n",
       "         [ 3.8309]])]"
      ]
     },
     "execution_count": 3,
     "metadata": {},
     "output_type": "execute_result"
    }
   ],
   "execution_count": 3
  },
  {
   "metadata": {
    "ExecuteTime": {
     "end_time": "2025-09-30T07:55:02.319168Z",
     "start_time": "2025-09-30T07:55:02.315776Z"
    }
   },
   "cell_type": "code",
   "source": [
    "# 定义模型\n",
    "from torch import nn\n",
    "net = nn.Sequential(nn.Linear(2, 1))"
   ],
   "id": "bf013a0ca1b3e4b6",
   "outputs": [],
   "execution_count": 4
  },
  {
   "metadata": {
    "ExecuteTime": {
     "end_time": "2025-09-30T07:55:52.468911Z",
     "start_time": "2025-09-30T07:55:52.464128Z"
    }
   },
   "cell_type": "code",
   "source": [
    "# 初始化模型参数\n",
    "net[0].weight.data.normal_(0, 0.01)\n",
    "net[0].bias.data.fill_(0)"
   ],
   "id": "1e51e3c4cbeab8bd",
   "outputs": [
    {
     "data": {
      "text/plain": [
       "tensor([0.])"
      ]
     },
     "execution_count": 5,
     "metadata": {},
     "output_type": "execute_result"
    }
   ],
   "execution_count": 5
  },
  {
   "metadata": {
    "ExecuteTime": {
     "end_time": "2025-09-30T07:56:06.636667Z",
     "start_time": "2025-09-30T07:56:06.633961Z"
    }
   },
   "cell_type": "code",
   "source": [
    "# 定义损失函数\n",
    "loss = nn.MSELoss()"
   ],
   "id": "f4e5f5f53d475232",
   "outputs": [],
   "execution_count": 6
  },
  {
   "metadata": {
    "ExecuteTime": {
     "end_time": "2025-09-30T07:56:22.411453Z",
     "start_time": "2025-09-30T07:56:22.408468Z"
    }
   },
   "cell_type": "code",
   "source": [
    "# 定义优化算法\n",
    "trainer = torch.optim.SGD(net.parameters(), lr=0.03)"
   ],
   "id": "20b8ba3ed398928d",
   "outputs": [],
   "execution_count": 7
  },
  {
   "metadata": {
    "ExecuteTime": {
     "end_time": "2025-09-30T07:57:22.810461Z",
     "start_time": "2025-09-30T07:57:22.569954Z"
    }
   },
   "cell_type": "code",
   "source": [
    "# 训练模型\n",
    "num_epochs = 3\n",
    "for epoch in range(num_epochs):\n",
    "    for X, y in data_iter:\n",
    "        l = loss(net(X), y)\n",
    "        trainer.zero_grad()\n",
    "        l.backward()\n",
    "        trainer.step()\n",
    "    l = loss(net(features), labels)\n",
    "    print(f'epoch {epoch + 1}, loss {l:f}')"
   ],
   "id": "478c0c46147afb2f",
   "outputs": [
    {
     "name": "stdout",
     "output_type": "stream",
     "text": [
      "epoch 1, loss 0.000141\n",
      "epoch 2, loss 0.000091\n",
      "epoch 3, loss 0.000091\n"
     ]
    }
   ],
   "execution_count": 8
  },
  {
   "metadata": {
    "ExecuteTime": {
     "end_time": "2025-09-30T07:57:52.025648Z",
     "start_time": "2025-09-30T07:57:52.020648Z"
    }
   },
   "cell_type": "code",
   "source": [
    "w = net[0].weight.data\n",
    "print('w的估计误差：', true_w - w.reshape(true_w.shape))\n",
    "b = net[0].bias.data\n",
    "print('b的估计误差：', true_b - b)"
   ],
   "id": "c66e95d1d09558ec",
   "outputs": [
    {
     "name": "stdout",
     "output_type": "stream",
     "text": [
      "w的估计误差： tensor([-0.0002,  0.0003])\n",
      "b的估计误差： tensor([0.0008])\n"
     ]
    }
   ],
   "execution_count": 9
  },
  {
   "metadata": {},
   "cell_type": "code",
   "outputs": [],
   "execution_count": null,
   "source": "",
   "id": "fcd5f35b20a08a33"
  }
 ],
 "metadata": {
  "kernelspec": {
   "display_name": "Python 3",
   "language": "python",
   "name": "python3"
  },
  "language_info": {
   "codemirror_mode": {
    "name": "ipython",
    "version": 2
   },
   "file_extension": ".py",
   "mimetype": "text/x-python",
   "name": "python",
   "nbconvert_exporter": "python",
   "pygments_lexer": "ipython2",
   "version": "2.7.6"
  }
 },
 "nbformat": 4,
 "nbformat_minor": 5
}
