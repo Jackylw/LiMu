{
 "cells": [
  {
   "cell_type": "markdown",
   "id": "b9c0f62e-f99e-44c9-a3c6-dd7920bf59e8",
   "metadata": {},
   "source": [
    "# 3.3.1. 生成数据集"
   ]
  },
  {
   "cell_type": "code",
   "execution_count": 1,
   "id": "52db08e0-8593-41d0-aa58-13f2bea688ca",
   "metadata": {},
   "outputs": [],
   "source": [
    "import numpy as np\n",
    "import torch\n",
    "from torch.utils import data\n",
    "from d2l import torch as d2l\n",
    "\n",
    "true_w = torch.tensor([2, -3.4])\n",
    "true_b = 4.2\n",
    "features, labels = d2l.synthetic_data(true_w, true_b, 1000)"
   ]
  },
  {
   "cell_type": "markdown",
   "id": "baf1f4e7-f282-448d-8708-7f9f76525d27",
   "metadata": {},
   "source": [
    "# 3.3.2. 读取数据集"
   ]
  },
  {
   "cell_type": "code",
   "execution_count": 2,
   "id": "730d0d9f-8861-41b3-accd-1c82705bb16b",
   "metadata": {},
   "outputs": [],
   "source": [
    "def load_array(data_arrays, batch_size, is_train=True):  #@save\n",
    "    \"\"\"构造一个PyTorch数据迭代器\"\"\"\n",
    "    dataset = data.TensorDataset(*data_arrays)\n",
    "    return data.DataLoader(dataset, batch_size, shuffle=is_train)\n",
    "\n",
    "batch_size = 10\n",
    "data_iter = load_array((features, labels), batch_size)"
   ]
  },
  {
   "cell_type": "code",
   "execution_count": 3,
   "id": "355bf30b-6012-452b-933d-fa555d3763e4",
   "metadata": {},
   "outputs": [
    {
     "data": {
      "text/plain": [
       "[tensor([[ 1.1787,  0.3327],\n",
       "         [-0.6229,  0.9555],\n",
       "         [ 1.6744,  0.3986],\n",
       "         [ 1.8214, -0.5366],\n",
       "         [ 1.0006, -0.5478],\n",
       "         [-1.2533,  0.2510],\n",
       "         [ 0.4600,  0.5333],\n",
       "         [ 1.7219, -1.3182],\n",
       "         [-0.8343, -1.4278],\n",
       "         [ 1.2508,  0.1945]]),\n",
       " tensor([[ 5.4275],\n",
       "         [-0.3130],\n",
       "         [ 6.1793],\n",
       "         [ 9.6911],\n",
       "         [ 8.0637],\n",
       "         [ 0.8411],\n",
       "         [ 3.3086],\n",
       "         [12.1098],\n",
       "         [ 7.3706],\n",
       "         [ 6.0646]])]"
      ]
     },
     "execution_count": 3,
     "metadata": {},
     "output_type": "execute_result"
    }
   ],
   "source": [
    "next(iter(data_iter))"
   ]
  },
  {
   "cell_type": "markdown",
   "id": "98f6ee44-073b-4b1b-8d84-107d7698e82e",
   "metadata": {},
   "source": [
    "# 3.3.3. 定义模型"
   ]
  },
  {
   "cell_type": "code",
   "execution_count": 4,
   "id": "bb9554c1-56d5-4f15-bf7e-ea0a5d445dff",
   "metadata": {},
   "outputs": [],
   "source": [
    "# nn是神经网络的缩写\n",
    "from torch import nn\n",
    "\n",
    "net = nn.Sequential(nn.Linear(2, 1))"
   ]
  },
  {
   "cell_type": "markdown",
   "id": "de59983c-c3df-4567-8b01-1a8169c457d6",
   "metadata": {},
   "source": [
    "# 3.3.4. 初始化模型参"
   ]
  },
  {
   "cell_type": "code",
   "execution_count": 5,
   "id": "9d30c13f-e7d6-4ad5-8513-64cde0c3723b",
   "metadata": {},
   "outputs": [
    {
     "data": {
      "text/plain": [
       "tensor([0.])"
      ]
     },
     "execution_count": 5,
     "metadata": {},
     "output_type": "execute_result"
    }
   ],
   "source": [
    "net[0].weight.data.normal_(0, 0.01)\n",
    "net[0].bias.data.fill_(0)"
   ]
  },
  {
   "cell_type": "markdown",
   "id": "4cdea68f-6a78-4514-b591-f58714859b08",
   "metadata": {},
   "source": [
    "# 3.3.5. 定义损失函数"
   ]
  },
  {
   "cell_type": "code",
   "execution_count": 6,
   "id": "f4a78a6c-51ef-4ab2-a5ba-70ab9f68b85e",
   "metadata": {},
   "outputs": [],
   "source": [
    "loss = nn.MSELoss()"
   ]
  },
  {
   "cell_type": "markdown",
   "id": "6c05d5a2-99e3-4e5e-be16-a509f3981c67",
   "metadata": {},
   "source": [
    "# 3.3.6. 定义优化算法"
   ]
  },
  {
   "cell_type": "code",
   "execution_count": 7,
   "id": "39a33bfd-6044-4a63-83d1-fa618cfcdb0e",
   "metadata": {},
   "outputs": [],
   "source": [
    "trainer = torch.optim.SGD(net.parameters(), lr=0.03)"
   ]
  },
  {
   "cell_type": "markdown",
   "id": "770be7f6-a5af-447e-8ede-e8de20bcc1c5",
   "metadata": {},
   "source": [
    "# 3.3.7. 训练"
   ]
  },
  {
   "cell_type": "code",
   "execution_count": 9,
   "id": "58b9e0a4-df11-432e-81df-09a29a3b044a",
   "metadata": {},
   "outputs": [
    {
     "name": "stdout",
     "output_type": "stream",
     "text": [
      "epoch 1, loss 0.000107\n",
      "epoch 2, loss 0.000104\n",
      "epoch 3, loss 0.000105\n"
     ]
    }
   ],
   "source": [
    "num_epochs = 3\n",
    "for epoch in range(num_epochs):\n",
    "    for X, y in data_iter:\n",
    "        l = loss(net(X) ,y)\n",
    "        trainer.zero_grad() # 梯度清零\n",
    "        l.backward() # 反向传播\n",
    "        trainer.step() # 更新参数\n",
    "    l = loss(net(features), labels)\n",
    "    print(f'epoch {epoch + 1}, loss {l:f}')"
   ]
  },
  {
   "cell_type": "code",
   "execution_count": 10,
   "id": "a7329885-e3a5-42b3-975e-7ecf6460cee9",
   "metadata": {},
   "outputs": [
    {
     "name": "stdout",
     "output_type": "stream",
     "text": [
      "w的估计误差： tensor([-0.0008, -0.0003])\n",
      "b的估计误差： tensor([-0.0006])\n"
     ]
    }
   ],
   "source": [
    "w = net[0].weight.data\n",
    "print('w的估计误差：', true_w - w.reshape(true_w.shape))\n",
    "b = net[0].bias.data\n",
    "print('b的估计误差：', true_b - b)"
   ]
  },
  {
   "cell_type": "code",
   "execution_count": null,
   "id": "95f8b4e2-b240-46bc-a3a8-e211cca5a174",
   "metadata": {},
   "outputs": [],
   "source": []
  }
 ],
 "metadata": {
  "kernelspec": {
   "display_name": "Python 3 (ipykernel)",
   "language": "python",
   "name": "python3"
  },
  "language_info": {
   "codemirror_mode": {
    "name": "ipython",
    "version": 3
   },
   "file_extension": ".py",
   "mimetype": "text/x-python",
   "name": "python",
   "nbconvert_exporter": "python",
   "pygments_lexer": "ipython3",
   "version": "3.9.23"
  }
 },
 "nbformat": 4,
 "nbformat_minor": 5
}
