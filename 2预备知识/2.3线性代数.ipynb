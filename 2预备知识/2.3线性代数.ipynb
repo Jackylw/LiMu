{
 "cells": [
  {
   "cell_type": "markdown",
   "id": "cbdd3718d5a1e7ea",
   "metadata": {},
   "source": [
    "# 2.3.1标量"
   ]
  },
  {
   "cell_type": "code",
   "execution_count": 1,
   "id": "9795bac32e453b83",
   "metadata": {
    "ExecuteTime": {
     "end_time": "2025-09-29T01:53:29.740638Z",
     "start_time": "2025-09-29T01:53:28.650995Z"
    }
   },
   "outputs": [
    {
     "data": {
      "text/plain": [
       "(tensor(5.), tensor(6.), tensor(1.5000), tensor(9.))"
      ]
     },
     "execution_count": 1,
     "metadata": {},
     "output_type": "execute_result"
    }
   ],
   "source": [
    "import torch\n",
    "\n",
    "x = torch.tensor(3.0)\n",
    "y = torch.tensor(2.0)\n",
    "\n",
    "x + y, x * y, x / y, x**y"
   ]
  },
  {
   "cell_type": "markdown",
   "id": "a1bdb6f9798c59c2",
   "metadata": {},
   "source": [
    "# 2.3.2 向量"
   ]
  },
  {
   "cell_type": "code",
   "execution_count": 2,
   "id": "59f3d36b4ad2134c",
   "metadata": {
    "ExecuteTime": {
     "end_time": "2025-09-29T01:53:58.479285Z",
     "start_time": "2025-09-29T01:53:58.475411Z"
    }
   },
   "outputs": [
    {
     "data": {
      "text/plain": [
       "tensor([0, 1, 2, 3])"
      ]
     },
     "execution_count": 2,
     "metadata": {},
     "output_type": "execute_result"
    }
   ],
   "source": [
    "x = torch.arange(4)\n",
    "x"
   ]
  },
  {
   "cell_type": "code",
   "execution_count": 3,
   "id": "2b7a724826aabd14",
   "metadata": {
    "ExecuteTime": {
     "end_time": "2025-09-29T01:55:37.563461Z",
     "start_time": "2025-09-29T01:55:37.560063Z"
    }
   },
   "outputs": [
    {
     "data": {
      "text/plain": [
       "tensor(3)"
      ]
     },
     "execution_count": 3,
     "metadata": {},
     "output_type": "execute_result"
    }
   ],
   "source": [
    "x[3]"
   ]
  },
  {
   "cell_type": "markdown",
   "id": "1908feabcaa027e2",
   "metadata": {},
   "source": [
    "# 2.3.2.1. 长度、维度和形状"
   ]
  },
  {
   "cell_type": "code",
   "execution_count": 4,
   "id": "3fe8c15bfaeac5a5",
   "metadata": {
    "ExecuteTime": {
     "end_time": "2025-09-29T01:56:04.416257Z",
     "start_time": "2025-09-29T01:56:04.412913Z"
    }
   },
   "outputs": [
    {
     "data": {
      "text/plain": [
       "4"
      ]
     },
     "execution_count": 4,
     "metadata": {},
     "output_type": "execute_result"
    }
   ],
   "source": [
    "len(x)"
   ]
  },
  {
   "cell_type": "code",
   "execution_count": 5,
   "id": "5a45513b47e01011",
   "metadata": {
    "ExecuteTime": {
     "end_time": "2025-09-29T01:56:13.482698Z",
     "start_time": "2025-09-29T01:56:13.479460Z"
    }
   },
   "outputs": [
    {
     "data": {
      "text/plain": [
       "torch.Size([4])"
      ]
     },
     "execution_count": 5,
     "metadata": {},
     "output_type": "execute_result"
    }
   ],
   "source": [
    "x.shape"
   ]
  },
  {
   "cell_type": "markdown",
   "id": "9ff81521d8dd7bd0",
   "metadata": {},
   "source": [
    "# 2.3.3. 矩阵"
   ]
  },
  {
   "cell_type": "code",
   "execution_count": 7,
   "id": "37940d15cd67d8d0",
   "metadata": {
    "ExecuteTime": {
     "end_time": "2025-09-29T01:58:30.753194Z",
     "start_time": "2025-09-29T01:58:30.750229Z"
    }
   },
   "outputs": [
    {
     "name": "stdout",
     "output_type": "stream",
     "text": [
      "tensor([[ 0,  1,  2,  3],\n",
      "        [ 4,  5,  6,  7],\n",
      "        [ 8,  9, 10, 11],\n",
      "        [12, 13, 14, 15],\n",
      "        [16, 17, 18, 19]])\n"
     ]
    }
   ],
   "source": [
    "A = torch.arange(20).reshape(5, 4)\n",
    "print(A)"
   ]
  },
  {
   "cell_type": "code",
   "execution_count": 9,
   "id": "eaccb74bcd4e76f6",
   "metadata": {
    "ExecuteTime": {
     "end_time": "2025-09-29T01:59:51.728054Z",
     "start_time": "2025-09-29T01:59:51.724789Z"
    }
   },
   "outputs": [
    {
     "name": "stdout",
     "output_type": "stream",
     "text": [
      "tensor([[ 0,  4,  8, 12, 16],\n",
      "        [ 1,  5,  9, 13, 17],\n",
      "        [ 2,  6, 10, 14, 18],\n",
      "        [ 3,  7, 11, 15, 19]])\n"
     ]
    }
   ],
   "source": [
    "print(A.T)"
   ]
  },
  {
   "cell_type": "code",
   "execution_count": 11,
   "id": "661aa4f5c8e9b1af",
   "metadata": {
    "ExecuteTime": {
     "end_time": "2025-09-29T02:00:04.894832Z",
     "start_time": "2025-09-29T02:00:04.890486Z"
    }
   },
   "outputs": [
    {
     "name": "stdout",
     "output_type": "stream",
     "text": [
      "tensor([[1, 2, 3],\n",
      "        [2, 0, 4],\n",
      "        [3, 4, 5]])\n"
     ]
    }
   ],
   "source": [
    "B = torch.tensor([[1, 2, 3], [2, 0, 4], [3, 4, 5]])\n",
    "print(B)"
   ]
  },
  {
   "cell_type": "markdown",
   "id": "c74a25fe3e09128a",
   "metadata": {},
   "source": [
    "# 2.3.4张量"
   ]
  },
  {
   "cell_type": "code",
   "execution_count": 12,
   "id": "6836c64c2068aaa0",
   "metadata": {
    "ExecuteTime": {
     "end_time": "2025-09-29T05:51:32.244181Z",
     "start_time": "2025-09-29T05:51:32.133338Z"
    }
   },
   "outputs": [
    {
     "data": {
      "text/plain": [
       "tensor([[[ 0,  1,  2,  3],\n",
       "         [ 4,  5,  6,  7],\n",
       "         [ 8,  9, 10, 11]],\n",
       "\n",
       "        [[12, 13, 14, 15],\n",
       "         [16, 17, 18, 19],\n",
       "         [20, 21, 22, 23]]])"
      ]
     },
     "execution_count": 12,
     "metadata": {},
     "output_type": "execute_result"
    }
   ],
   "source": [
    "X = torch.arange(24).reshape(2, 3, 4)\n",
    "X"
   ]
  },
  {
   "cell_type": "markdown",
   "id": "ddd12555c271d59d",
   "metadata": {},
   "source": [
    "# 2.3.5. 张量算法的基本性质"
   ]
  },
  {
   "cell_type": "code",
   "execution_count": 13,
   "id": "50fd97b3ee0c7b2e",
   "metadata": {
    "ExecuteTime": {
     "end_time": "2025-09-29T05:52:56.179304Z",
     "start_time": "2025-09-29T05:52:56.102187Z"
    }
   },
   "outputs": [
    {
     "data": {
      "text/plain": [
       "(tensor([[ 0.,  1.,  2.,  3.],\n",
       "         [ 4.,  5.,  6.,  7.],\n",
       "         [ 8.,  9., 10., 11.],\n",
       "         [12., 13., 14., 15.],\n",
       "         [16., 17., 18., 19.]]),\n",
       " tensor([[ 0.,  2.,  4.,  6.],\n",
       "         [ 8., 10., 12., 14.],\n",
       "         [16., 18., 20., 22.],\n",
       "         [24., 26., 28., 30.],\n",
       "         [32., 34., 36., 38.]]))"
      ]
     },
     "execution_count": 13,
     "metadata": {},
     "output_type": "execute_result"
    }
   ],
   "source": [
    "A = torch.arange(20, dtype=torch.float32).reshape(5, 4)\n",
    "B = A.clone()  # 通过分配新内存，将A的一个副本分配给B\n",
    "A, A + B"
   ]
  },
  {
   "cell_type": "code",
   "execution_count": 15,
   "id": "85dc1e836a8eef54",
   "metadata": {
    "ExecuteTime": {
     "end_time": "2025-09-29T05:55:14.859269Z",
     "start_time": "2025-09-29T05:55:14.852725Z"
    }
   },
   "outputs": [
    {
     "name": "stdout",
     "output_type": "stream",
     "text": [
      "tensor([[  0.,   1.,   4.,   9.],\n",
      "        [ 16.,  25.,  36.,  49.],\n",
      "        [ 64.,  81., 100., 121.],\n",
      "        [144., 169., 196., 225.],\n",
      "        [256., 289., 324., 361.]])\n"
     ]
    }
   ],
   "source": [
    "print(A * B)"
   ]
  },
  {
   "cell_type": "code",
   "execution_count": 16,
   "id": "2acc0a4bbeb974b7",
   "metadata": {
    "ExecuteTime": {
     "end_time": "2025-09-29T05:56:35.492360Z",
     "start_time": "2025-09-29T05:56:35.450871Z"
    }
   },
   "outputs": [
    {
     "data": {
      "text/plain": [
       "(tensor([[[ 2,  3,  4,  5],\n",
       "          [ 6,  7,  8,  9],\n",
       "          [10, 11, 12, 13]],\n",
       " \n",
       "         [[14, 15, 16, 17],\n",
       "          [18, 19, 20, 21],\n",
       "          [22, 23, 24, 25]]]),\n",
       " torch.Size([2, 3, 4]))"
      ]
     },
     "execution_count": 16,
     "metadata": {},
     "output_type": "execute_result"
    }
   ],
   "source": [
    "a = 2\n",
    "X = torch.arange(24).reshape(2, 3, 4)\n",
    "a + X, (a * X).shape"
   ]
  },
  {
   "cell_type": "markdown",
   "id": "3a1abef0da1e1c29",
   "metadata": {},
   "source": [
    "# 2.3.6. 降维"
   ]
  },
  {
   "cell_type": "code",
   "execution_count": 17,
   "id": "88f7f4eb0917091c",
   "metadata": {
    "ExecuteTime": {
     "end_time": "2025-09-29T06:02:06.039348Z",
     "start_time": "2025-09-29T06:02:05.971951Z"
    }
   },
   "outputs": [
    {
     "data": {
      "text/plain": [
       "(tensor([0., 1., 2., 3.]), tensor(6.))"
      ]
     },
     "execution_count": 17,
     "metadata": {},
     "output_type": "execute_result"
    }
   ],
   "source": [
    "x = torch.arange(4, dtype=torch.float32)\n",
    "x, x.sum()"
   ]
  },
  {
   "cell_type": "code",
   "execution_count": 21,
   "id": "470f336195ab4192",
   "metadata": {
    "ExecuteTime": {
     "end_time": "2025-09-29T06:03:51.393456Z",
     "start_time": "2025-09-29T06:03:51.385608Z"
    }
   },
   "outputs": [
    {
     "name": "stdout",
     "output_type": "stream",
     "text": [
      "tensor([[ 0.,  1.,  2.,  3.],\n",
      "        [ 4.,  5.,  6.,  7.],\n",
      "        [ 8.,  9., 10., 11.],\n",
      "        [12., 13., 14., 15.],\n",
      "        [16., 17., 18., 19.]])\n"
     ]
    },
    {
     "data": {
      "text/plain": [
       "(torch.Size([5, 4]), tensor(190.))"
      ]
     },
     "execution_count": 21,
     "metadata": {},
     "output_type": "execute_result"
    }
   ],
   "source": [
    "print(A)\n",
    "A.shape, A.sum()"
   ]
  },
  {
   "cell_type": "code",
   "execution_count": 22,
   "id": "8a765b2fd600d1c2",
   "metadata": {
    "ExecuteTime": {
     "end_time": "2025-09-29T06:03:53.743320Z",
     "start_time": "2025-09-29T06:03:53.735905Z"
    }
   },
   "outputs": [
    {
     "data": {
      "text/plain": [
       "(tensor([40., 45., 50., 55.]), torch.Size([4]))"
      ]
     },
     "execution_count": 22,
     "metadata": {},
     "output_type": "execute_result"
    }
   ],
   "source": [
    "A_sum_axis0 = A.sum(axis=0) # 降维,0 轴\n",
    "A_sum_axis0, A_sum_axis0.shape"
   ]
  },
  {
   "cell_type": "code",
   "execution_count": 23,
   "id": "89fa1c645400e2c6",
   "metadata": {
    "ExecuteTime": {
     "end_time": "2025-09-29T06:05:40.357411Z",
     "start_time": "2025-09-29T06:05:40.349464Z"
    }
   },
   "outputs": [
    {
     "data": {
      "text/plain": [
       "(tensor([ 6., 22., 38., 54., 70.]), torch.Size([5]))"
      ]
     },
     "execution_count": 23,
     "metadata": {},
     "output_type": "execute_result"
    }
   ],
   "source": [
    "A_sum_axis1 = A.sum(axis=1) # 降维,1 轴\n",
    "A_sum_axis1, A_sum_axis1.shape"
   ]
  },
  {
   "cell_type": "code",
   "execution_count": 24,
   "id": "60f239078f630ba6",
   "metadata": {
    "ExecuteTime": {
     "end_time": "2025-09-29T06:08:38.737138Z",
     "start_time": "2025-09-29T06:08:38.729030Z"
    }
   },
   "outputs": [
    {
     "data": {
      "text/plain": [
       "tensor(190.)"
      ]
     },
     "execution_count": 24,
     "metadata": {},
     "output_type": "execute_result"
    }
   ],
   "source": [
    "# 沿着行和列对矩阵求和，等价于对矩阵的所有元素进行求和。\n",
    "A.sum(axis=[0, 1])  # 结果和A.sum()相同"
   ]
  },
  {
   "cell_type": "code",
   "execution_count": 25,
   "id": "30db2bdfb9acc533",
   "metadata": {
    "ExecuteTime": {
     "end_time": "2025-09-29T06:09:23.491801Z",
     "start_time": "2025-09-29T06:09:23.421856Z"
    }
   },
   "outputs": [
    {
     "data": {
      "text/plain": [
       "(tensor(9.5000), tensor(9.5000))"
      ]
     },
     "execution_count": 25,
     "metadata": {},
     "output_type": "execute_result"
    }
   ],
   "source": [
    "A.mean(), A.sum() / A.numel() # 平均值, 总和 / 元素个数"
   ]
  },
  {
   "cell_type": "code",
   "execution_count": 26,
   "id": "87cad8fbee9457f3",
   "metadata": {
    "ExecuteTime": {
     "end_time": "2025-09-29T06:13:45.160397Z",
     "start_time": "2025-09-29T06:13:45.091850Z"
    }
   },
   "outputs": [
    {
     "data": {
      "text/plain": [
       "(tensor([ 8.,  9., 10., 11.]), tensor([ 8.,  9., 10., 11.]))"
      ]
     },
     "execution_count": 26,
     "metadata": {},
     "output_type": "execute_result"
    }
   ],
   "source": [
    "A.mean(axis=0), A.sum(axis=0) / A.shape[0]"
   ]
  },
  {
   "cell_type": "markdown",
   "id": "2869f206757708d4",
   "metadata": {},
   "source": [
    "# 2.3.6.1. 非降维求和"
   ]
  },
  {
   "cell_type": "code",
   "execution_count": 28,
   "id": "ae77138fe59ae0a2",
   "metadata": {
    "ExecuteTime": {
     "end_time": "2025-09-29T06:16:32.939494Z",
     "start_time": "2025-09-29T06:16:32.934146Z"
    }
   },
   "outputs": [
    {
     "name": "stdout",
     "output_type": "stream",
     "text": [
      "tensor([[ 6.],\n",
      "        [22.],\n",
      "        [38.],\n",
      "        [54.],\n",
      "        [70.]])\n"
     ]
    }
   ],
   "source": [
    "sum_A = A.sum(axis=1, keepdims=True)\n",
    "print(sum_A)"
   ]
  },
  {
   "cell_type": "code",
   "execution_count": 30,
   "id": "b3e74cf5db661fb5",
   "metadata": {
    "ExecuteTime": {
     "end_time": "2025-09-29T12:10:53.806680Z",
     "start_time": "2025-09-29T12:10:53.803098Z"
    }
   },
   "outputs": [
    {
     "name": "stdout",
     "output_type": "stream",
     "text": [
      "tensor([[0.0000, 0.1667, 0.3333, 0.5000],\n",
      "        [0.1818, 0.2273, 0.2727, 0.3182],\n",
      "        [0.2105, 0.2368, 0.2632, 0.2895],\n",
      "        [0.2222, 0.2407, 0.2593, 0.2778],\n",
      "        [0.2286, 0.2429, 0.2571, 0.2714]])\n"
     ]
    }
   ],
   "source": [
    "print(A / sum_A)"
   ]
  },
  {
   "cell_type": "code",
   "execution_count": 35,
   "id": "ab58683ddabc36e0",
   "metadata": {
    "ExecuteTime": {
     "end_time": "2025-09-29T12:14:24.689505Z",
     "start_time": "2025-09-29T12:14:24.681487Z"
    }
   },
   "outputs": [
    {
     "name": "stdout",
     "output_type": "stream",
     "text": [
      "tensor([[ 0.,  1.,  2.,  3.],\n",
      "        [ 4.,  5.,  6.,  7.],\n",
      "        [ 8.,  9., 10., 11.],\n",
      "        [12., 13., 14., 15.],\n",
      "        [16., 17., 18., 19.]])\n",
      "tensor([[ 0.,  1.,  2.,  3.],\n",
      "        [ 4.,  6.,  8., 10.],\n",
      "        [12., 15., 18., 21.],\n",
      "        [24., 28., 32., 36.],\n",
      "        [40., 45., 50., 55.]])\n",
      "tensor([[ 0.,  1.,  3.,  6.],\n",
      "        [ 4.,  9., 15., 22.],\n",
      "        [ 8., 17., 27., 38.],\n",
      "        [12., 25., 39., 54.],\n",
      "        [16., 33., 51., 70.]])\n"
     ]
    }
   ],
   "source": [
    "print(A)\n",
    "print(A.cumsum(axis=0)) # 累加\n",
    "print(A.cumsum(axis=1))"
   ]
  },
  {
   "cell_type": "markdown",
   "id": "62afeaf88150714",
   "metadata": {},
   "source": [
    "# 2.3.7. 点积（Dot Product）"
   ]
  },
  {
   "cell_type": "code",
   "execution_count": 36,
   "id": "df60dbfeceec5dd",
   "metadata": {
    "ExecuteTime": {
     "end_time": "2025-09-29T12:15:36.352859Z",
     "start_time": "2025-09-29T12:15:36.335152Z"
    }
   },
   "outputs": [
    {
     "data": {
      "text/plain": [
       "(tensor([0., 1., 2., 3.]), tensor([1., 1., 1., 1.]), tensor(6.))"
      ]
     },
     "execution_count": 36,
     "metadata": {},
     "output_type": "execute_result"
    }
   ],
   "source": [
    "y = torch.ones(4, dtype = torch.float32)\n",
    "x, y, torch.dot(x, y)"
   ]
  },
  {
   "cell_type": "code",
   "execution_count": 37,
   "id": "5f307cacd9e75250",
   "metadata": {
    "ExecuteTime": {
     "end_time": "2025-09-29T12:16:38.680162Z",
     "start_time": "2025-09-29T12:16:38.671790Z"
    }
   },
   "outputs": [
    {
     "data": {
      "text/plain": [
       "tensor(6.)"
      ]
     },
     "execution_count": 37,
     "metadata": {},
     "output_type": "execute_result"
    }
   ],
   "source": [
    "# 注意，我们可以通过执行按元素乘法，然后进行求和来表示两个向量的点积\n",
    "torch.sum(x * y)"
   ]
  },
  {
   "cell_type": "markdown",
   "id": "5b6452394d8f2ecc",
   "metadata": {},
   "source": [
    "# 2.3.8. 矩阵-向量积"
   ]
  },
  {
   "cell_type": "code",
   "execution_count": 39,
   "id": "8975a759580d2c4b",
   "metadata": {
    "ExecuteTime": {
     "end_time": "2025-09-29T12:23:13.189941Z",
     "start_time": "2025-09-29T12:23:13.184722Z"
    }
   },
   "outputs": [
    {
     "name": "stdout",
     "output_type": "stream",
     "text": [
      "tensor([[ 0.,  1.,  2.,  3.],\n",
      "        [ 4.,  5.,  6.,  7.],\n",
      "        [ 8.,  9., 10., 11.],\n",
      "        [12., 13., 14., 15.],\n",
      "        [16., 17., 18., 19.]])\n",
      "tensor([0., 1., 2., 3.])\n"
     ]
    },
    {
     "data": {
      "text/plain": [
       "(torch.Size([5, 4]), torch.Size([4]), tensor([ 14.,  38.,  62.,  86., 110.]))"
      ]
     },
     "execution_count": 39,
     "metadata": {},
     "output_type": "execute_result"
    }
   ],
   "source": [
    "print(A)\n",
    "print(x)\n",
    "A.shape, x.shape, torch.mv(A, x) # 矩阵-向量积 就是向量乘法"
   ]
  },
  {
   "cell_type": "markdown",
   "id": "1b2850c7895bca25",
   "metadata": {},
   "source": [
    "# 2.3.9. 矩阵-矩阵乘法"
   ]
  },
  {
   "cell_type": "code",
   "execution_count": 41,
   "id": "9a4be001bdb7e599",
   "metadata": {
    "ExecuteTime": {
     "end_time": "2025-09-29T12:25:20.556278Z",
     "start_time": "2025-09-29T12:25:20.548713Z"
    }
   },
   "outputs": [
    {
     "name": "stdout",
     "output_type": "stream",
     "text": [
      "tensor([[ 6.,  6.,  6.],\n",
      "        [22., 22., 22.],\n",
      "        [38., 38., 38.],\n",
      "        [54., 54., 54.],\n",
      "        [70., 70., 70.]])\n",
      "tensor([[ 6.,  6.,  6.],\n",
      "        [22., 22., 22.],\n",
      "        [38., 38., 38.],\n",
      "        [54., 54., 54.],\n",
      "        [70., 70., 70.]])\n",
      "tensor([[ 6.,  6.,  6.],\n",
      "        [22., 22., 22.],\n",
      "        [38., 38., 38.],\n",
      "        [54., 54., 54.],\n",
      "        [70., 70., 70.]])\n"
     ]
    }
   ],
   "source": [
    "B = torch.ones(4, 3)\n",
    "print(torch.mm(A, B))\n",
    "print(torch.matmul(A, B))\n",
    "print(A @ B)"
   ]
  },
  {
   "cell_type": "markdown",
   "id": "7e32a0553cc5a24a",
   "metadata": {},
   "source": [
    "# 2.3.10. 范数"
   ]
  },
  {
   "cell_type": "code",
   "execution_count": 42,
   "id": "e496eafee2b4e049",
   "metadata": {
    "ExecuteTime": {
     "end_time": "2025-09-29T12:26:29.249020Z",
     "start_time": "2025-09-29T12:26:29.203176Z"
    }
   },
   "outputs": [
    {
     "data": {
      "text/plain": [
       "tensor(5.)"
      ]
     },
     "execution_count": 42,
     "metadata": {},
     "output_type": "execute_result"
    }
   ],
   "source": [
    "u = torch.tensor([3.0, -4.0])\n",
    "torch.norm(u) # L2 范数"
   ]
  },
  {
   "cell_type": "code",
   "execution_count": 43,
   "id": "aee21343c0a93c67",
   "metadata": {
    "ExecuteTime": {
     "end_time": "2025-09-29T12:26:49.921709Z",
     "start_time": "2025-09-29T12:26:49.911395Z"
    }
   },
   "outputs": [
    {
     "data": {
      "text/plain": [
       "tensor(7.)"
      ]
     },
     "execution_count": 43,
     "metadata": {},
     "output_type": "execute_result"
    }
   ],
   "source": [
    "torch.abs(u).sum() # L1 范数"
   ]
  },
  {
   "cell_type": "code",
   "execution_count": 44,
   "id": "59753379d979987c",
   "metadata": {
    "ExecuteTime": {
     "end_time": "2025-09-29T12:26:58.597079Z",
     "start_time": "2025-09-29T12:26:58.591760Z"
    }
   },
   "outputs": [
    {
     "data": {
      "text/plain": [
       "tensor(6.)"
      ]
     },
     "execution_count": 44,
     "metadata": {},
     "output_type": "execute_result"
    }
   ],
   "source": [
    "torch.norm(torch.ones((4, 9))) # Frobenius 范数"
   ]
  },
  {
   "cell_type": "code",
   "execution_count": null,
   "id": "e01e18970dcf7c51",
   "metadata": {},
   "outputs": [],
   "source": []
  }
 ],
 "metadata": {
  "kernelspec": {
   "display_name": "Python 3 (ipykernel)",
   "language": "python",
   "name": "python3"
  },
  "language_info": {
   "codemirror_mode": {
    "name": "ipython",
    "version": 3
   },
   "file_extension": ".py",
   "mimetype": "text/x-python",
   "name": "python",
   "nbconvert_exporter": "python",
   "pygments_lexer": "ipython3",
   "version": "3.9.23"
  }
 },
 "nbformat": 4,
 "nbformat_minor": 5
}
