{
 "cells": [
  {
   "cell_type": "markdown",
   "id": "c4fe483ad3fc1cb5",
   "metadata": {},
   "source": [
    "# 2.2.1 读取数据集"
   ]
  },
  {
   "cell_type": "code",
   "execution_count": 6,
   "id": "e3a70007f420394d",
   "metadata": {
    "ExecuteTime": {
     "end_time": "2025-09-29T01:40:50.155360Z",
     "start_time": "2025-09-29T01:40:50.151097Z"
    }
   },
   "outputs": [],
   "source": [
    "import os\n",
    "\n",
    "# 生成数据集\n",
    "os.makedirs(os.path.join('', 'data'), exist_ok=True)\n",
    "data_file = os.path.join('', 'data', 'house_tiny.csv')\n",
    "with open(data_file, 'w') as f:\n",
    "    f.write('NumRooms,Alley,Price\\n')  # 列名\n",
    "    f.write('NA,Pave,127500\\n')  # 每行表示一个数据样本\n",
    "    f.write('2,NA,106000\\n')\n",
    "    f.write('4,NA,178100\\n')\n",
    "    f.write('NA,NA,140000\\n')"
   ]
  },
  {
   "cell_type": "code",
   "execution_count": 7,
   "id": "bc8bba80ebcb8136",
   "metadata": {
    "ExecuteTime": {
     "end_time": "2025-09-29T01:40:51.622670Z",
     "start_time": "2025-09-29T01:40:51.617416Z"
    }
   },
   "outputs": [
    {
     "name": "stdout",
     "output_type": "stream",
     "text": [
      "   NumRooms Alley   Price\n",
      "0       NaN  Pave  127500\n",
      "1       2.0   NaN  106000\n",
      "2       4.0   NaN  178100\n",
      "3       NaN   NaN  140000\n"
     ]
    }
   ],
   "source": [
    "import pandas as pd\n",
    "\n",
    "data = pd.read_csv(data_file)\n",
    "print(data)"
   ]
  },
  {
   "cell_type": "markdown",
   "id": "638cc88dffdc63d",
   "metadata": {},
   "source": [
    "# 2.2.2 处理缺失值"
   ]
  },
  {
   "cell_type": "code",
   "execution_count": 11,
   "id": "daf5cf7e66a1bd35",
   "metadata": {
    "ExecuteTime": {
     "end_time": "2025-09-29T01:45:18.114873Z",
     "start_time": "2025-09-29T01:45:18.110629Z"
    }
   },
   "outputs": [
    {
     "name": "stdout",
     "output_type": "stream",
     "text": [
      "   NumRooms Alley\n",
      "0       3.0  Pave\n",
      "1       2.0   NaN\n",
      "2       4.0   NaN\n",
      "3       3.0   NaN\n"
     ]
    }
   ],
   "source": [
    "inputs, outputs = data.iloc[:, 0:2], data.iloc[:, 2]\n",
    "inputs['NumRooms'] = inputs['NumRooms'].fillna(inputs['NumRooms'].mean())\n",
    "print(inputs)"
   ]
  },
  {
   "cell_type": "markdown",
   "id": "43cc0828987cf54c",
   "metadata": {},
   "source": [
    "对于inputs中的类别值或离散值，我们将“NaN”视为一个类别。 由于“巷子类型”（“Alley”）列只接受两种类型的类别值“Pave”和“NaN”， pandas可以自动将此列转换为两列“Alley_Pave”和“Alley_nan”。 巷子类型为“Pave”的行会将“Alley_Pave”的值设置为1，“Alley_nan”的值设置为0。 缺少巷子类型的行会将“Alley_Pave”和“Alley_nan”分别设置为0和1。"
   ]
  },
  {
   "cell_type": "code",
   "execution_count": 12,
   "id": "7ea0ba671d387568",
   "metadata": {
    "ExecuteTime": {
     "end_time": "2025-09-29T01:45:29.010525Z",
     "start_time": "2025-09-29T01:45:28.964612Z"
    }
   },
   "outputs": [
    {
     "name": "stdout",
     "output_type": "stream",
     "text": [
      "   NumRooms  Alley_Pave  Alley_nan\n",
      "0       3.0        True      False\n",
      "1       2.0       False       True\n",
      "2       4.0       False       True\n",
      "3       3.0       False       True\n"
     ]
    }
   ],
   "source": [
    "inputs = pd.get_dummies(inputs, dummy_na=True)\n",
    "print(inputs)"
   ]
  },
  {
   "cell_type": "markdown",
   "id": "85d4b0ddc46d5443",
   "metadata": {},
   "source": [
    "# 2.2.3 转为张量"
   ]
  },
  {
   "cell_type": "code",
   "execution_count": 13,
   "id": "8ed13fc0d1ef6122",
   "metadata": {
    "ExecuteTime": {
     "end_time": "2025-09-29T01:47:07.318995Z",
     "start_time": "2025-09-29T01:47:06.267448Z"
    }
   },
   "outputs": [
    {
     "data": {
      "text/plain": [
       "(tensor([[3., 1., 0.],\n",
       "         [2., 0., 1.],\n",
       "         [4., 0., 1.],\n",
       "         [3., 0., 1.]], dtype=torch.float64),\n",
       " tensor([127500., 106000., 178100., 140000.], dtype=torch.float64))"
      ]
     },
     "execution_count": 13,
     "metadata": {},
     "output_type": "execute_result"
    }
   ],
   "source": [
    "import torch\n",
    "\n",
    "X = torch.tensor(inputs.to_numpy(dtype=float))\n",
    "y = torch.tensor(outputs.to_numpy(dtype=float))\n",
    "X, y"
   ]
  }
 ],
 "metadata": {
  "kernelspec": {
   "display_name": "Python 3 (ipykernel)",
   "language": "python",
   "name": "python3"
  },
  "language_info": {
   "codemirror_mode": {
    "name": "ipython",
    "version": 3
   },
   "file_extension": ".py",
   "mimetype": "text/x-python",
   "name": "python",
   "nbconvert_exporter": "python",
   "pygments_lexer": "ipython3",
   "version": "3.9.23"
  }
 },
 "nbformat": 4,
 "nbformat_minor": 5
}
