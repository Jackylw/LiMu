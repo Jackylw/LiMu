{
 "cells": [
  {
   "cell_type": "markdown",
   "id": "6095ac84636f4102",
   "metadata": {},
   "source": [
    "# 2.1.1 入门"
   ]
  },
  {
   "cell_type": "code",
   "execution_count": 32,
   "id": "bba5440d891be9f7",
   "metadata": {
    "ExecuteTime": {
     "end_time": "2025-09-29T01:18:50.776900Z",
     "start_time": "2025-09-29T01:18:50.772897Z"
    },
    "collapsed": true,
    "jupyter": {
     "outputs_hidden": true
    }
   },
   "outputs": [
    {
     "data": {
      "text/plain": [
       "tensor([ 0,  1,  2,  3,  4,  5,  6,  7,  8,  9, 10, 11])"
      ]
     },
     "execution_count": 32,
     "metadata": {},
     "output_type": "execute_result"
    }
   ],
   "source": [
    "import torch\n",
    "\n",
    "x = torch.arange(12)\n",
    "x"
   ]
  },
  {
   "cell_type": "code",
   "execution_count": 33,
   "id": "604263f9bad33f86",
   "metadata": {
    "ExecuteTime": {
     "end_time": "2025-09-29T01:18:51.683067Z",
     "start_time": "2025-09-29T01:18:51.679343Z"
    }
   },
   "outputs": [
    {
     "data": {
      "text/plain": [
       "torch.Size([12])"
      ]
     },
     "execution_count": 33,
     "metadata": {},
     "output_type": "execute_result"
    }
   ],
   "source": [
    "x.shape"
   ]
  },
  {
   "cell_type": "code",
   "execution_count": 34,
   "id": "48300cc367c37cc7",
   "metadata": {
    "ExecuteTime": {
     "end_time": "2025-09-29T01:18:52.409873Z",
     "start_time": "2025-09-29T01:18:52.406403Z"
    }
   },
   "outputs": [
    {
     "data": {
      "text/plain": [
       "12"
      ]
     },
     "execution_count": 34,
     "metadata": {},
     "output_type": "execute_result"
    }
   ],
   "source": [
    "x.numel() # 元素个数"
   ]
  },
  {
   "cell_type": "code",
   "execution_count": 35,
   "id": "8424cc3b123a2731",
   "metadata": {
    "ExecuteTime": {
     "end_time": "2025-09-29T01:18:53.127780Z",
     "start_time": "2025-09-29T01:18:53.124561Z"
    }
   },
   "outputs": [
    {
     "name": "stdout",
     "output_type": "stream",
     "text": [
      "tensor([[ 0,  1,  2,  3],\n",
      "        [ 4,  5,  6,  7],\n",
      "        [ 8,  9, 10, 11]])\n"
     ]
    }
   ],
   "source": [
    "X = x.reshape(3, 4)\n",
    "print(X)"
   ]
  },
  {
   "cell_type": "code",
   "execution_count": 36,
   "id": "5610506078a5603e",
   "metadata": {
    "ExecuteTime": {
     "end_time": "2025-09-29T01:19:32.551572Z",
     "start_time": "2025-09-29T01:19:32.547713Z"
    }
   },
   "outputs": [
    {
     "data": {
      "text/plain": [
       "tensor([[[0., 0., 0., 0.],\n",
       "         [0., 0., 0., 0.],\n",
       "         [0., 0., 0., 0.]],\n",
       "\n",
       "        [[0., 0., 0., 0.],\n",
       "         [0., 0., 0., 0.],\n",
       "         [0., 0., 0., 0.]]])"
      ]
     },
     "execution_count": 36,
     "metadata": {},
     "output_type": "execute_result"
    }
   ],
   "source": [
    "torch.zeros((2, 3, 4))"
   ]
  },
  {
   "cell_type": "code",
   "execution_count": 37,
   "id": "c1eb3ecfd49ca947",
   "metadata": {
    "ExecuteTime": {
     "end_time": "2025-09-29T01:19:34.009292Z",
     "start_time": "2025-09-29T01:19:34.005254Z"
    }
   },
   "outputs": [
    {
     "data": {
      "text/plain": [
       "tensor([[[1., 1., 1., 1.],\n",
       "         [1., 1., 1., 1.],\n",
       "         [1., 1., 1., 1.]],\n",
       "\n",
       "        [[1., 1., 1., 1.],\n",
       "         [1., 1., 1., 1.],\n",
       "         [1., 1., 1., 1.]]])"
      ]
     },
     "execution_count": 37,
     "metadata": {},
     "output_type": "execute_result"
    }
   ],
   "source": [
    "torch.ones((2, 3, 4))"
   ]
  },
  {
   "cell_type": "code",
   "execution_count": 38,
   "id": "b12d8bdbe77913ee",
   "metadata": {
    "ExecuteTime": {
     "end_time": "2025-09-29T01:19:35.348377Z",
     "start_time": "2025-09-29T01:19:35.344871Z"
    }
   },
   "outputs": [
    {
     "name": "stdout",
     "output_type": "stream",
     "text": [
      "tensor([[ 0.5836,  0.1224, -0.8849, -0.5459],\n",
      "        [ 1.1680, -3.4318, -0.6475, -1.6779],\n",
      "        [-1.5251,  1.1212,  1.0394,  0.3096]])\n"
     ]
    }
   ],
   "source": [
    "print(torch.randn(3, 4))"
   ]
  },
  {
   "cell_type": "code",
   "execution_count": 39,
   "id": "54ed635f197333b3",
   "metadata": {
    "ExecuteTime": {
     "end_time": "2025-09-29T01:19:36.361966Z",
     "start_time": "2025-09-29T01:19:36.358599Z"
    }
   },
   "outputs": [
    {
     "name": "stdout",
     "output_type": "stream",
     "text": [
      "tensor([[2, 1, 4, 3],\n",
      "        [1, 2, 3, 4],\n",
      "        [4, 3, 2, 1]])\n"
     ]
    }
   ],
   "source": [
    "print(torch.tensor([[2, 1, 4, 3], [1, 2, 3, 4], [4, 3, 2, 1]]))"
   ]
  },
  {
   "cell_type": "markdown",
   "id": "17082afc25a70ef",
   "metadata": {},
   "source": [
    "# 2.1.2 运算符"
   ]
  },
  {
   "cell_type": "code",
   "execution_count": 40,
   "id": "4ac124974b2515f3",
   "metadata": {
    "ExecuteTime": {
     "end_time": "2025-09-29T01:19:37.630518Z",
     "start_time": "2025-09-29T01:19:37.626124Z"
    }
   },
   "outputs": [
    {
     "data": {
      "text/plain": [
       "(tensor([ 3.,  4.,  6., 10.]),\n",
       " tensor([-1.,  0.,  2.,  6.]),\n",
       " tensor([ 2.,  4.,  8., 16.]),\n",
       " tensor([0.5000, 1.0000, 2.0000, 4.0000]),\n",
       " tensor([ 1.,  4., 16., 64.]))"
      ]
     },
     "execution_count": 40,
     "metadata": {},
     "output_type": "execute_result"
    }
   ],
   "source": [
    "x = torch.tensor([1.0, 2, 4, 8])\n",
    "y = torch.tensor([2, 2, 2, 2])\n",
    "x + y, x - y, x * y, x / y, x ** y  # **运算符是求幂运算"
   ]
  },
  {
   "cell_type": "code",
   "execution_count": 41,
   "id": "8808cd66694c4729",
   "metadata": {
    "ExecuteTime": {
     "end_time": "2025-09-29T01:19:38.729075Z",
     "start_time": "2025-09-29T01:19:38.724711Z"
    }
   },
   "outputs": [
    {
     "data": {
      "text/plain": [
       "tensor([2.7183e+00, 7.3891e+00, 5.4598e+01, 2.9810e+03])"
      ]
     },
     "execution_count": 41,
     "metadata": {},
     "output_type": "execute_result"
    }
   ],
   "source": [
    "torch.exp(x) # e的几次方"
   ]
  },
  {
   "cell_type": "code",
   "execution_count": 42,
   "id": "2e01aa514b5ff5cd",
   "metadata": {
    "ExecuteTime": {
     "end_time": "2025-09-29T01:19:39.883833Z",
     "start_time": "2025-09-29T01:19:39.878977Z"
    }
   },
   "outputs": [
    {
     "data": {
      "text/plain": [
       "(tensor([[ 0.,  1.,  2.,  3.],\n",
       "         [ 4.,  5.,  6.,  7.],\n",
       "         [ 8.,  9., 10., 11.],\n",
       "         [ 2.,  1.,  4.,  3.],\n",
       "         [ 1.,  2.,  3.,  4.],\n",
       "         [ 4.,  3.,  2.,  1.]]),\n",
       " tensor([[ 0.,  1.,  2.,  3.,  2.,  1.,  4.,  3.],\n",
       "         [ 4.,  5.,  6.,  7.,  1.,  2.,  3.,  4.],\n",
       "         [ 8.,  9., 10., 11.,  4.,  3.,  2.,  1.]]))"
      ]
     },
     "execution_count": 42,
     "metadata": {},
     "output_type": "execute_result"
    }
   ],
   "source": [
    "X = torch.arange(12, dtype=torch.float32).reshape((3, 4))\n",
    "Y = torch.tensor([[2.0, 1, 4, 3], [1, 2, 3, 4], [4, 3, 2, 1]])\n",
    "torch.cat((X, Y), dim=0), torch.cat((X, Y), dim=1) # 拼接"
   ]
  },
  {
   "cell_type": "code",
   "execution_count": 44,
   "id": "9dfdfbb5cadbe25",
   "metadata": {
    "ExecuteTime": {
     "end_time": "2025-09-29T01:19:49.626694Z",
     "start_time": "2025-09-29T01:19:49.622981Z"
    }
   },
   "outputs": [
    {
     "name": "stdout",
     "output_type": "stream",
     "text": [
      "tensor([[False,  True, False,  True],\n",
      "        [False, False, False, False],\n",
      "        [False, False, False, False]])\n"
     ]
    }
   ],
   "source": [
    "print(X == Y)"
   ]
  },
  {
   "cell_type": "code",
   "execution_count": 14,
   "id": "48e76e84a9392171",
   "metadata": {
    "ExecuteTime": {
     "end_time": "2025-09-29T01:08:31.629295Z",
     "start_time": "2025-09-29T01:08:31.622491Z"
    }
   },
   "outputs": [
    {
     "data": {
      "text/plain": [
       "tensor(66.)"
      ]
     },
     "execution_count": 14,
     "metadata": {},
     "output_type": "execute_result"
    }
   ],
   "source": [
    "X.sum() # 对张量中的所有元素进行求和"
   ]
  },
  {
   "cell_type": "markdown",
   "id": "9a2acdd20faa6d0c",
   "metadata": {},
   "source": [
    "# 2.1.3 广播机制"
   ]
  },
  {
   "cell_type": "code",
   "execution_count": 15,
   "id": "d102b79c19876637",
   "metadata": {
    "ExecuteTime": {
     "end_time": "2025-09-29T01:09:19.810605Z",
     "start_time": "2025-09-29T01:09:19.805085Z"
    }
   },
   "outputs": [
    {
     "data": {
      "text/plain": [
       "(tensor([[0],\n",
       "         [1],\n",
       "         [2]]),\n",
       " tensor([[0, 1]]))"
      ]
     },
     "execution_count": 15,
     "metadata": {},
     "output_type": "execute_result"
    }
   ],
   "source": [
    "a = torch.arange(3).reshape((3, 1))\n",
    "b = torch.arange(2).reshape((1, 2))\n",
    "a, b"
   ]
  },
  {
   "cell_type": "code",
   "execution_count": 27,
   "id": "30cc4b4392696427",
   "metadata": {
    "ExecuteTime": {
     "end_time": "2025-09-29T01:17:40.725297Z",
     "start_time": "2025-09-29T01:17:40.722100Z"
    }
   },
   "outputs": [
    {
     "name": "stdout",
     "output_type": "stream",
     "text": [
      "tensor([[0, 1],\n",
      "        [1, 2],\n",
      "        [2, 3]])\n"
     ]
    }
   ],
   "source": [
    "print(a + b) # 广播为3乘2"
   ]
  },
  {
   "cell_type": "markdown",
   "id": "5d04a0e6b8a7baf2",
   "metadata": {},
   "source": [
    "# 2.1.4索引和切片"
   ]
  },
  {
   "cell_type": "code",
   "execution_count": 21,
   "id": "393fb8b2c162421c",
   "metadata": {
    "ExecuteTime": {
     "end_time": "2025-09-29T01:12:22.160302Z",
     "start_time": "2025-09-29T01:12:22.155953Z"
    }
   },
   "outputs": [
    {
     "data": {
      "text/plain": [
       "(tensor([[ 0.,  1.,  2.,  3.],\n",
       "         [ 4.,  5.,  6.,  7.],\n",
       "         [ 8.,  9., 10., 11.]]),\n",
       " tensor([ 8.,  9., 10., 11.]),\n",
       " tensor([[ 4.,  5.,  6.,  7.],\n",
       "         [ 8.,  9., 10., 11.]]))"
      ]
     },
     "execution_count": 21,
     "metadata": {},
     "output_type": "execute_result"
    }
   ],
   "source": [
    "X,X[-1], X[1:3]"
   ]
  },
  {
   "cell_type": "code",
   "execution_count": 26,
   "id": "54da8fee1e969efd",
   "metadata": {
    "ExecuteTime": {
     "end_time": "2025-09-29T01:17:31.738198Z",
     "start_time": "2025-09-29T01:17:31.734198Z"
    }
   },
   "outputs": [
    {
     "name": "stdout",
     "output_type": "stream",
     "text": [
      "tensor([[12., 12., 12., 12.],\n",
      "        [12., 12.,  9., 12.],\n",
      "        [ 8.,  9., 10., 11.]])\n"
     ]
    }
   ],
   "source": [
    "X[1, 2] = 9\n",
    "print(X)"
   ]
  },
  {
   "cell_type": "code",
   "execution_count": 25,
   "id": "abacc7f60e2b1db1",
   "metadata": {
    "ExecuteTime": {
     "end_time": "2025-09-29T01:17:26.112242Z",
     "start_time": "2025-09-29T01:17:26.108629Z"
    }
   },
   "outputs": [
    {
     "name": "stdout",
     "output_type": "stream",
     "text": [
      "tensor([[12., 12., 12., 12.],\n",
      "        [12., 12., 12., 12.],\n",
      "        [ 8.,  9., 10., 11.]])\n"
     ]
    }
   ],
   "source": [
    "X[0:2, :] = 12\n",
    "print(X)"
   ]
  },
  {
   "cell_type": "markdown",
   "id": "dcfc070dbc415be1",
   "metadata": {},
   "source": [
    "# 2.1.5 节省内存"
   ]
  },
  {
   "cell_type": "markdown",
   "id": "62a04c158433975a",
   "metadata": {},
   "source": [
    "运行一些操作可能会导致为新结果分配内存。 例如，如果我们用Y = X + Y，我们将取消引用Y指向的张量，而是指向新分配的内存处的张量。\n",
    "\n",
    "在下面的例子中，我们用Python的id()函数演示了这一点， 它给我们提供了内存中引用对象的确切地址。 运行Y = Y + X后，我们会发现id(Y)指向另一个位置。 这是因为Python首先计算Y + X，为结果分配新的内存，然后使Y指向内存中的这个新位置。"
   ]
  },
  {
   "cell_type": "code",
   "execution_count": 45,
   "id": "e0b20833677b945f",
   "metadata": {
    "ExecuteTime": {
     "end_time": "2025-09-29T01:22:11.451825Z",
     "start_time": "2025-09-29T01:22:11.447842Z"
    }
   },
   "outputs": [
    {
     "data": {
      "text/plain": [
       "False"
      ]
     },
     "execution_count": 45,
     "metadata": {},
     "output_type": "execute_result"
    }
   ],
   "source": [
    "before = id(Y)\n",
    "Y = Y + X\n",
    "id(Y) == before"
   ]
  },
  {
   "cell_type": "markdown",
   "id": "8348ab0ade46163d",
   "metadata": {},
   "source": [
    "尽量原地更新"
   ]
  },
  {
   "cell_type": "code",
   "execution_count": 46,
   "id": "43c2a6d256fd64d0",
   "metadata": {
    "ExecuteTime": {
     "end_time": "2025-09-29T01:23:25.649859Z",
     "start_time": "2025-09-29T01:23:25.609046Z"
    }
   },
   "outputs": [
    {
     "name": "stdout",
     "output_type": "stream",
     "text": [
      "id(Z): 2467034217552\n",
      "id(Z): 2467034217552\n"
     ]
    }
   ],
   "source": [
    "Z = torch.zeros_like(Y)\n",
    "print('id(Z):', id(Z))\n",
    "Z[:] = X + Y\n",
    "print('id(Z):', id(Z))"
   ]
  },
  {
   "cell_type": "markdown",
   "id": "144d447f46b50199",
   "metadata": {},
   "source": [
    "如果在后续计算中没有重复使用X， 我们也可以使用X[:] = X + Y或X += Y来减少操作的内存开销。"
   ]
  },
  {
   "cell_type": "code",
   "execution_count": 47,
   "id": "c2ed8e84a7f32a0f",
   "metadata": {
    "ExecuteTime": {
     "end_time": "2025-09-29T01:24:26.057076Z",
     "start_time": "2025-09-29T01:24:26.016128Z"
    }
   },
   "outputs": [
    {
     "data": {
      "text/plain": [
       "True"
      ]
     },
     "execution_count": 47,
     "metadata": {},
     "output_type": "execute_result"
    }
   ],
   "source": [
    "before = id(X)\n",
    "X += Y\n",
    "id(X) == before"
   ]
  },
  {
   "cell_type": "markdown",
   "id": "871eeb12ad3fb1f9",
   "metadata": {},
   "source": [
    "# 2.1.6 转换为其他对象"
   ]
  },
  {
   "cell_type": "code",
   "execution_count": 48,
   "id": "597528fd1d49b073",
   "metadata": {
    "ExecuteTime": {
     "end_time": "2025-09-29T01:29:40.390050Z",
     "start_time": "2025-09-29T01:29:40.347309Z"
    }
   },
   "outputs": [
    {
     "data": {
      "text/plain": [
       "(numpy.ndarray, torch.Tensor)"
      ]
     },
     "execution_count": 48,
     "metadata": {},
     "output_type": "execute_result"
    }
   ],
   "source": [
    "A = X.numpy()\n",
    "B = torch.tensor(A)\n",
    "type(A), type(B)"
   ]
  },
  {
   "cell_type": "code",
   "execution_count": 49,
   "id": "b8ecbf5f0c7b5b83",
   "metadata": {
    "ExecuteTime": {
     "end_time": "2025-09-29T01:30:19.383561Z",
     "start_time": "2025-09-29T01:30:19.369103Z"
    }
   },
   "outputs": [
    {
     "data": {
      "text/plain": [
       "(tensor([3.5000]), 3.5, 3.5, 3)"
      ]
     },
     "execution_count": 49,
     "metadata": {},
     "output_type": "execute_result"
    }
   ],
   "source": [
    "a = torch.tensor([3.5])\n",
    "a, a.item(), float(a), int(a) # 转换为标量"
   ]
  }
 ],
 "metadata": {
  "kernelspec": {
   "display_name": "Python 3 (ipykernel)",
   "language": "python",
   "name": "python3"
  },
  "language_info": {
   "codemirror_mode": {
    "name": "ipython",
    "version": 3
   },
   "file_extension": ".py",
   "mimetype": "text/x-python",
   "name": "python",
   "nbconvert_exporter": "python",
   "pygments_lexer": "ipython3",
   "version": "3.9.23"
  }
 },
 "nbformat": 4,
 "nbformat_minor": 5
}
