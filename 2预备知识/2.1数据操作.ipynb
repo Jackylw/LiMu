{
 "cells": [
  {
   "cell_type": "markdown",
   "id": "6095ac84636f4102",
   "metadata": {},
   "source": [
    "# 2.1.1 入门"
   ]
  },
  {
   "cell_type": "code",
   "id": "bba5440d891be9f7",
   "metadata": {
    "collapsed": true,
    "jupyter": {
     "outputs_hidden": true
    },
    "ExecuteTime": {
     "end_time": "2025-09-30T07:44:35.889570Z",
     "start_time": "2025-09-30T07:44:35.884232Z"
    }
   },
   "source": [
    "import torch\n",
    "\n",
    "x = torch.arange(12)\n",
    "x"
   ],
   "outputs": [
    {
     "data": {
      "text/plain": [
       "tensor([ 0,  1,  2,  3,  4,  5,  6,  7,  8,  9, 10, 11])"
      ]
     },
     "execution_count": 2,
     "metadata": {},
     "output_type": "execute_result"
    }
   ],
   "execution_count": 2
  },
  {
   "cell_type": "code",
   "id": "604263f9bad33f86",
   "metadata": {
    "ExecuteTime": {
     "end_time": "2025-09-30T04:09:15.889455Z",
     "start_time": "2025-09-30T04:09:15.886316Z"
    }
   },
   "source": [
    "x.shape"
   ],
   "outputs": [
    {
     "data": {
      "text/plain": [
       "torch.Size([12])"
      ]
     },
     "execution_count": 4,
     "metadata": {},
     "output_type": "execute_result"
    }
   ],
   "execution_count": 4
  },
  {
   "cell_type": "code",
   "id": "48300cc367c37cc7",
   "metadata": {
    "ExecuteTime": {
     "end_time": "2025-09-30T04:09:16.006645Z",
     "start_time": "2025-09-30T04:09:16.003563Z"
    }
   },
   "source": [
    "x.numel() # 元素个数"
   ],
   "outputs": [
    {
     "data": {
      "text/plain": [
       "12"
      ]
     },
     "execution_count": 5,
     "metadata": {},
     "output_type": "execute_result"
    }
   ],
   "execution_count": 5
  },
  {
   "cell_type": "code",
   "id": "8424cc3b123a2731",
   "metadata": {
    "ExecuteTime": {
     "end_time": "2025-09-30T04:09:16.126871Z",
     "start_time": "2025-09-30T04:09:16.123920Z"
    }
   },
   "source": [
    "X = x.reshape(3, 4)\n",
    "print(X)"
   ],
   "outputs": [
    {
     "name": "stdout",
     "output_type": "stream",
     "text": [
      "tensor([[ 0,  1,  2,  3],\n",
      "        [ 4,  5,  6,  7],\n",
      "        [ 8,  9, 10, 11]])\n"
     ]
    }
   ],
   "execution_count": 6
  },
  {
   "cell_type": "code",
   "id": "5610506078a5603e",
   "metadata": {
    "ExecuteTime": {
     "end_time": "2025-09-30T04:09:16.368016Z",
     "start_time": "2025-09-30T04:09:16.364067Z"
    }
   },
   "source": [
    "torch.zeros((2, 3, 4))"
   ],
   "outputs": [
    {
     "data": {
      "text/plain": [
       "tensor([[[0., 0., 0., 0.],\n",
       "         [0., 0., 0., 0.],\n",
       "         [0., 0., 0., 0.]],\n",
       "\n",
       "        [[0., 0., 0., 0.],\n",
       "         [0., 0., 0., 0.],\n",
       "         [0., 0., 0., 0.]]])"
      ]
     },
     "execution_count": 7,
     "metadata": {},
     "output_type": "execute_result"
    }
   ],
   "execution_count": 7
  },
  {
   "cell_type": "code",
   "id": "c1eb3ecfd49ca947",
   "metadata": {
    "ExecuteTime": {
     "end_time": "2025-09-30T04:09:16.528155Z",
     "start_time": "2025-09-30T04:09:16.524048Z"
    }
   },
   "source": [
    "torch.ones((2, 3, 4))"
   ],
   "outputs": [
    {
     "data": {
      "text/plain": [
       "tensor([[[1., 1., 1., 1.],\n",
       "         [1., 1., 1., 1.],\n",
       "         [1., 1., 1., 1.]],\n",
       "\n",
       "        [[1., 1., 1., 1.],\n",
       "         [1., 1., 1., 1.],\n",
       "         [1., 1., 1., 1.]]])"
      ]
     },
     "execution_count": 8,
     "metadata": {},
     "output_type": "execute_result"
    }
   ],
   "execution_count": 8
  },
  {
   "cell_type": "code",
   "id": "b12d8bdbe77913ee",
   "metadata": {
    "ExecuteTime": {
     "end_time": "2025-09-30T04:09:16.647145Z",
     "start_time": "2025-09-30T04:09:16.644049Z"
    }
   },
   "source": [
    "print(torch.randn(3, 4))"
   ],
   "outputs": [
    {
     "name": "stdout",
     "output_type": "stream",
     "text": [
      "tensor([[ 0.3973, -0.3844, -1.1538,  0.9073],\n",
      "        [-0.8412, -0.1123, -1.2048,  0.4418],\n",
      "        [ 0.1348,  0.3165, -0.6197, -1.2949]])\n"
     ]
    }
   ],
   "execution_count": 9
  },
  {
   "cell_type": "code",
   "id": "54ed635f197333b3",
   "metadata": {
    "ExecuteTime": {
     "end_time": "2025-09-30T04:09:16.808025Z",
     "start_time": "2025-09-30T04:09:16.804810Z"
    }
   },
   "source": [
    "print(torch.tensor([[2, 1, 4, 3], [1, 2, 3, 4], [4, 3, 2, 1]]))"
   ],
   "outputs": [
    {
     "name": "stdout",
     "output_type": "stream",
     "text": [
      "tensor([[2, 1, 4, 3],\n",
      "        [1, 2, 3, 4],\n",
      "        [4, 3, 2, 1]])\n"
     ]
    }
   ],
   "execution_count": 10
  },
  {
   "cell_type": "markdown",
   "id": "17082afc25a70ef",
   "metadata": {},
   "source": [
    "# 2.1.2 运算符"
   ]
  },
  {
   "cell_type": "code",
   "id": "4ac124974b2515f3",
   "metadata": {
    "ExecuteTime": {
     "end_time": "2025-09-30T04:09:16.937283Z",
     "start_time": "2025-09-30T04:09:16.931685Z"
    }
   },
   "source": [
    "x = torch.tensor([1.0, 2, 4, 8])\n",
    "y = torch.tensor([2, 2, 2, 2])\n",
    "x + y, x - y, x * y, x / y, x ** y  # **运算符是求幂运算"
   ],
   "outputs": [
    {
     "data": {
      "text/plain": [
       "(tensor([ 3.,  4.,  6., 10.]),\n",
       " tensor([-1.,  0.,  2.,  6.]),\n",
       " tensor([ 2.,  4.,  8., 16.]),\n",
       " tensor([0.5000, 1.0000, 2.0000, 4.0000]),\n",
       " tensor([ 1.,  4., 16., 64.]))"
      ]
     },
     "execution_count": 11,
     "metadata": {},
     "output_type": "execute_result"
    }
   ],
   "execution_count": 11
  },
  {
   "cell_type": "code",
   "id": "8808cd66694c4729",
   "metadata": {
    "ExecuteTime": {
     "end_time": "2025-09-30T04:09:17.032335Z",
     "start_time": "2025-09-30T04:09:17.028737Z"
    }
   },
   "source": [
    "torch.exp(x) # e的几次方"
   ],
   "outputs": [
    {
     "data": {
      "text/plain": [
       "tensor([2.7183e+00, 7.3891e+00, 5.4598e+01, 2.9810e+03])"
      ]
     },
     "execution_count": 12,
     "metadata": {},
     "output_type": "execute_result"
    }
   ],
   "execution_count": 12
  },
  {
   "cell_type": "code",
   "id": "2e01aa514b5ff5cd",
   "metadata": {
    "ExecuteTime": {
     "end_time": "2025-09-30T04:09:17.109180Z",
     "start_time": "2025-09-30T04:09:17.103105Z"
    }
   },
   "source": [
    "X = torch.arange(12, dtype=torch.float32).reshape((3, 4))\n",
    "Y = torch.tensor([[2.0, 1, 4, 3], [1, 2, 3, 4], [4, 3, 2, 1]])\n",
    "torch.cat((X, Y), dim=0), torch.cat((X, Y), dim=1) # 拼接"
   ],
   "outputs": [
    {
     "data": {
      "text/plain": [
       "(tensor([[ 0.,  1.,  2.,  3.],\n",
       "         [ 4.,  5.,  6.,  7.],\n",
       "         [ 8.,  9., 10., 11.],\n",
       "         [ 2.,  1.,  4.,  3.],\n",
       "         [ 1.,  2.,  3.,  4.],\n",
       "         [ 4.,  3.,  2.,  1.]]),\n",
       " tensor([[ 0.,  1.,  2.,  3.,  2.,  1.,  4.,  3.],\n",
       "         [ 4.,  5.,  6.,  7.,  1.,  2.,  3.,  4.],\n",
       "         [ 8.,  9., 10., 11.,  4.,  3.,  2.,  1.]]))"
      ]
     },
     "execution_count": 13,
     "metadata": {},
     "output_type": "execute_result"
    }
   ],
   "execution_count": 13
  },
  {
   "cell_type": "code",
   "id": "9dfdfbb5cadbe25",
   "metadata": {
    "ExecuteTime": {
     "end_time": "2025-09-30T04:09:17.195913Z",
     "start_time": "2025-09-30T04:09:17.193138Z"
    }
   },
   "source": [
    "print(X == Y)"
   ],
   "outputs": [
    {
     "name": "stdout",
     "output_type": "stream",
     "text": [
      "tensor([[False,  True, False,  True],\n",
      "        [False, False, False, False],\n",
      "        [False, False, False, False]])\n"
     ]
    }
   ],
   "execution_count": 14
  },
  {
   "cell_type": "code",
   "id": "48e76e84a9392171",
   "metadata": {
    "ExecuteTime": {
     "end_time": "2025-09-30T04:09:17.271798Z",
     "start_time": "2025-09-30T04:09:17.268316Z"
    }
   },
   "source": [
    "X.sum() # 对张量中的所有元素进行求和"
   ],
   "outputs": [
    {
     "data": {
      "text/plain": [
       "tensor(66.)"
      ]
     },
     "execution_count": 15,
     "metadata": {},
     "output_type": "execute_result"
    }
   ],
   "execution_count": 15
  },
  {
   "cell_type": "markdown",
   "id": "9a2acdd20faa6d0c",
   "metadata": {},
   "source": [
    "# 2.1.3 广播机制"
   ]
  },
  {
   "cell_type": "code",
   "id": "d102b79c19876637",
   "metadata": {
    "ExecuteTime": {
     "end_time": "2025-09-30T04:09:17.368010Z",
     "start_time": "2025-09-30T04:09:17.363822Z"
    }
   },
   "source": [
    "a = torch.arange(3).reshape((3, 1))\n",
    "b = torch.arange(2).reshape((1, 2))\n",
    "a, b"
   ],
   "outputs": [
    {
     "data": {
      "text/plain": [
       "(tensor([[0],\n",
       "         [1],\n",
       "         [2]]),\n",
       " tensor([[0, 1]]))"
      ]
     },
     "execution_count": 16,
     "metadata": {},
     "output_type": "execute_result"
    }
   ],
   "execution_count": 16
  },
  {
   "cell_type": "code",
   "id": "30cc4b4392696427",
   "metadata": {
    "ExecuteTime": {
     "end_time": "2025-09-30T04:09:17.431137Z",
     "start_time": "2025-09-30T04:09:17.428329Z"
    }
   },
   "source": [
    "print(a + b) # 广播为3乘2"
   ],
   "outputs": [
    {
     "name": "stdout",
     "output_type": "stream",
     "text": [
      "tensor([[0, 1],\n",
      "        [1, 2],\n",
      "        [2, 3]])\n"
     ]
    }
   ],
   "execution_count": 17
  },
  {
   "cell_type": "markdown",
   "id": "5d04a0e6b8a7baf2",
   "metadata": {},
   "source": [
    "# 2.1.4索引和切片"
   ]
  },
  {
   "cell_type": "code",
   "id": "393fb8b2c162421c",
   "metadata": {
    "ExecuteTime": {
     "end_time": "2025-09-30T04:09:17.507291Z",
     "start_time": "2025-09-30T04:09:17.502830Z"
    }
   },
   "source": [
    "X,X[-1], X[1:3]"
   ],
   "outputs": [
    {
     "data": {
      "text/plain": [
       "(tensor([[ 0.,  1.,  2.,  3.],\n",
       "         [ 4.,  5.,  6.,  7.],\n",
       "         [ 8.,  9., 10., 11.]]),\n",
       " tensor([ 8.,  9., 10., 11.]),\n",
       " tensor([[ 4.,  5.,  6.,  7.],\n",
       "         [ 8.,  9., 10., 11.]]))"
      ]
     },
     "execution_count": 18,
     "metadata": {},
     "output_type": "execute_result"
    }
   ],
   "execution_count": 18
  },
  {
   "cell_type": "code",
   "id": "54da8fee1e969efd",
   "metadata": {
    "ExecuteTime": {
     "end_time": "2025-09-30T04:09:17.609045Z",
     "start_time": "2025-09-30T04:09:17.605870Z"
    }
   },
   "source": [
    "X[1, 2] = 9\n",
    "print(X)"
   ],
   "outputs": [
    {
     "name": "stdout",
     "output_type": "stream",
     "text": [
      "tensor([[ 0.,  1.,  2.,  3.],\n",
      "        [ 4.,  5.,  9.,  7.],\n",
      "        [ 8.,  9., 10., 11.]])\n"
     ]
    }
   ],
   "execution_count": 19
  },
  {
   "cell_type": "code",
   "id": "abacc7f60e2b1db1",
   "metadata": {
    "ExecuteTime": {
     "end_time": "2025-09-30T04:09:17.726973Z",
     "start_time": "2025-09-30T04:09:17.723781Z"
    }
   },
   "source": [
    "X[0:2, :] = 12\n",
    "print(X)"
   ],
   "outputs": [
    {
     "name": "stdout",
     "output_type": "stream",
     "text": [
      "tensor([[12., 12., 12., 12.],\n",
      "        [12., 12., 12., 12.],\n",
      "        [ 8.,  9., 10., 11.]])\n"
     ]
    }
   ],
   "execution_count": 20
  },
  {
   "cell_type": "markdown",
   "id": "dcfc070dbc415be1",
   "metadata": {},
   "source": [
    "# 2.1.5 节省内存"
   ]
  },
  {
   "cell_type": "markdown",
   "id": "62a04c158433975a",
   "metadata": {},
   "source": [
    "运行一些操作可能会导致为新结果分配内存。 例如，如果我们用Y = X + Y，我们将取消引用Y指向的张量，而是指向新分配的内存处的张量。\n",
    "\n",
    "在下面的例子中，我们用Python的id()函数演示了这一点， 它给我们提供了内存中引用对象的确切地址。 运行Y = Y + X后，我们会发现id(Y)指向另一个位置。 这是因为Python首先计算Y + X，为结果分配新的内存，然后使Y指向内存中的这个新位置。"
   ]
  },
  {
   "cell_type": "code",
   "id": "e0b20833677b945f",
   "metadata": {
    "ExecuteTime": {
     "end_time": "2025-09-30T04:09:17.807134Z",
     "start_time": "2025-09-30T04:09:17.803742Z"
    }
   },
   "source": [
    "before = id(Y)\n",
    "Y = Y + X\n",
    "id(Y) == before"
   ],
   "outputs": [
    {
     "data": {
      "text/plain": [
       "False"
      ]
     },
     "execution_count": 21,
     "metadata": {},
     "output_type": "execute_result"
    }
   ],
   "execution_count": 21
  },
  {
   "cell_type": "markdown",
   "id": "8348ab0ade46163d",
   "metadata": {},
   "source": [
    "尽量原地更新"
   ]
  },
  {
   "cell_type": "code",
   "id": "43c2a6d256fd64d0",
   "metadata": {
    "ExecuteTime": {
     "end_time": "2025-09-30T04:09:17.872872Z",
     "start_time": "2025-09-30T04:09:17.869171Z"
    }
   },
   "source": [
    "Z = torch.zeros_like(Y)\n",
    "print('id(Z):', id(Z))\n",
    "Z[:] = X + Y\n",
    "print('id(Z):', id(Z))"
   ],
   "outputs": [
    {
     "name": "stdout",
     "output_type": "stream",
     "text": [
      "id(Z): 140600432117856\n",
      "id(Z): 140600432117856\n"
     ]
    }
   ],
   "execution_count": 22
  },
  {
   "cell_type": "markdown",
   "id": "144d447f46b50199",
   "metadata": {},
   "source": [
    "如果在后续计算中没有重复使用X， 我们也可以使用X[:] = X + Y或X += Y来减少操作的内存开销。"
   ]
  },
  {
   "cell_type": "code",
   "id": "c2ed8e84a7f32a0f",
   "metadata": {
    "ExecuteTime": {
     "end_time": "2025-09-30T04:09:17.946482Z",
     "start_time": "2025-09-30T04:09:17.943094Z"
    }
   },
   "source": [
    "before = id(X)\n",
    "X += Y\n",
    "id(X) == before"
   ],
   "outputs": [
    {
     "data": {
      "text/plain": [
       "True"
      ]
     },
     "execution_count": 23,
     "metadata": {},
     "output_type": "execute_result"
    }
   ],
   "execution_count": 23
  },
  {
   "cell_type": "markdown",
   "id": "871eeb12ad3fb1f9",
   "metadata": {},
   "source": [
    "# 2.1.6 转换为其他对象"
   ]
  },
  {
   "cell_type": "code",
   "id": "597528fd1d49b073",
   "metadata": {
    "ExecuteTime": {
     "end_time": "2025-09-30T04:09:18.087427Z",
     "start_time": "2025-09-30T04:09:18.083738Z"
    }
   },
   "source": [
    "A = X.numpy()\n",
    "B = torch.tensor(A)\n",
    "type(A), type(B)"
   ],
   "outputs": [
    {
     "data": {
      "text/plain": [
       "(numpy.ndarray, torch.Tensor)"
      ]
     },
     "execution_count": 24,
     "metadata": {},
     "output_type": "execute_result"
    }
   ],
   "execution_count": 24
  },
  {
   "cell_type": "code",
   "id": "b8ecbf5f0c7b5b83",
   "metadata": {
    "ExecuteTime": {
     "end_time": "2025-09-30T04:09:18.167926Z",
     "start_time": "2025-09-30T04:09:18.163850Z"
    }
   },
   "source": [
    "a = torch.tensor([3.5])\n",
    "a, a.item(), float(a), int(a) # 转换为标量"
   ],
   "outputs": [
    {
     "data": {
      "text/plain": [
       "(tensor([3.5000]), 3.5, 3.5, 3)"
      ]
     },
     "execution_count": 25,
     "metadata": {},
     "output_type": "execute_result"
    }
   ],
   "execution_count": 25
  }
 ],
 "metadata": {
  "kernelspec": {
   "display_name": "Python 3 (ipykernel)",
   "language": "python",
   "name": "python3"
  },
  "language_info": {
   "codemirror_mode": {
    "name": "ipython",
    "version": 3
   },
   "file_extension": ".py",
   "mimetype": "text/x-python",
   "name": "python",
   "nbconvert_exporter": "python",
   "pygments_lexer": "ipython3",
   "version": "3.9.23"
  }
 },
 "nbformat": 4,
 "nbformat_minor": 5
}
