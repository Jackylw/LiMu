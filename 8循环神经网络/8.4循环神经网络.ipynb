{
 "cells": [
  {
   "cell_type": "code",
   "id": "initial_id",
   "metadata": {
    "collapsed": true,
    "ExecuteTime": {
     "end_time": "2025-10-14T01:18:46.645474Z",
     "start_time": "2025-10-14T01:18:43.139520Z"
    }
   },
   "source": [
    "import torch\n",
    "from d2l import torch as d2l\n",
    "\n",
    "X, W_xh = torch.normal(0, 1, (3, 1)), torch.normal(0, 1, (1, 4))\n",
    "H, W_hh = torch.normal(0, 1, (3, 4)), torch.normal(0, 1, (4, 4))\n",
    "torch.matmul(X, W_xh) + torch.matmul(H, W_hh)"
   ],
   "outputs": [
    {
     "data": {
      "text/plain": [
       "tensor([[-0.8023,  4.5889,  3.3118, -0.6312],\n",
       "        [-0.9521,  0.4798, -2.4626,  0.3766],\n",
       "        [ 0.9021,  0.2089, -1.2068, -0.7158]])"
      ]
     },
     "execution_count": 1,
     "metadata": {},
     "output_type": "execute_result"
    }
   ],
   "execution_count": 1
  },
  {
   "metadata": {
    "ExecuteTime": {
     "end_time": "2025-10-14T01:27:26.476564Z",
     "start_time": "2025-10-14T01:27:26.468083Z"
    }
   },
   "cell_type": "code",
   "source": "torch.matmul(torch.cat((X, H), 1), torch.cat((W_xh, W_hh), 0))",
   "id": "296b4e662bb71a74",
   "outputs": [
    {
     "data": {
      "text/plain": [
       "tensor([[-0.8023,  4.5889,  3.3118, -0.6312],\n",
       "        [-0.9521,  0.4798, -2.4626,  0.3766],\n",
       "        [ 0.9021,  0.2089, -1.2068, -0.7158]])"
      ]
     },
     "execution_count": 2,
     "metadata": {},
     "output_type": "execute_result"
    }
   ],
   "execution_count": 2
  },
  {
   "metadata": {},
   "cell_type": "code",
   "outputs": [],
   "execution_count": null,
   "source": "",
   "id": "36cc0e0607c5ed2"
  }
 ],
 "metadata": {
  "kernelspec": {
   "display_name": "Python 3",
   "language": "python",
   "name": "python3"
  },
  "language_info": {
   "codemirror_mode": {
    "name": "ipython",
    "version": 2
   },
   "file_extension": ".py",
   "mimetype": "text/x-python",
   "name": "python",
   "nbconvert_exporter": "python",
   "pygments_lexer": "ipython2",
   "version": "2.7.6"
  }
 },
 "nbformat": 4,
 "nbformat_minor": 5
}
