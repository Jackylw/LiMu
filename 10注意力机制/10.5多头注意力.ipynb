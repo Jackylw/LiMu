{
 "cells": [
  {
   "cell_type": "code",
   "id": "initial_id",
   "metadata": {
    "collapsed": true,
    "ExecuteTime": {
     "end_time": "2025-10-17T13:48:42.073159Z",
     "start_time": "2025-10-17T13:48:42.045549Z"
    }
   },
   "source": [
    "import torch\n",
    "import torch.nn as nn\n",
    "\n",
    "# 定义多头注意力层\n",
    "mha = nn.MultiheadAttention(embed_dim=64, num_heads=8, batch_first=True)\n",
    "\n",
    "# 输入数据：batch=2，序列长度=10，特征维度=64\n",
    "query = torch.rand(2, 10, 64)\n",
    "key   = torch.rand(2, 10, 64)\n",
    "value = torch.rand(2, 10, 64)\n",
    "\n",
    "# 前向计算\n",
    "output, attn_weights = mha(query, key, value)\n",
    "\n",
    "print(output.shape)        # torch.Size([2, 10, 64])\n",
    "print(attn_weights.shape)  # torch.Size([2, 10, 10])\n"
   ],
   "outputs": [
    {
     "name": "stdout",
     "output_type": "stream",
     "text": [
      "torch.Size([2, 10, 64])\n",
      "torch.Size([2, 10, 10])\n"
     ]
    }
   ],
   "execution_count": 5
  },
  {
   "metadata": {},
   "cell_type": "code",
   "outputs": [],
   "execution_count": null,
   "source": "",
   "id": "65e88dec8176da47"
  }
 ],
 "metadata": {
  "kernelspec": {
   "display_name": "Python 3",
   "language": "python",
   "name": "python3"
  },
  "language_info": {
   "codemirror_mode": {
    "name": "ipython",
    "version": 2
   },
   "file_extension": ".py",
   "mimetype": "text/x-python",
   "name": "python",
   "nbconvert_exporter": "python",
   "pygments_lexer": "ipython2",
   "version": "2.7.6"
  }
 },
 "nbformat": 4,
 "nbformat_minor": 5
}
