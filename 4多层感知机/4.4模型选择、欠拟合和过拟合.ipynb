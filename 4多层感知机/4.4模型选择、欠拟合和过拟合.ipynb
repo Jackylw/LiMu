{
 "cells": [
  {
   "cell_type": "code",
   "id": "initial_id",
   "metadata": {
    "collapsed": true,
    "ExecuteTime": {
     "end_time": "2025-09-30T12:30:43.161499Z",
     "start_time": "2025-09-30T12:30:39.184839Z"
    }
   },
   "source": [
    "# 多项式回归\n",
    "import math\n",
    "import numpy as np\n",
    "import torch\n",
    "from torch import nn\n",
    "from d2l import torch as d2l"
   ],
   "outputs": [],
   "execution_count": 1
  },
  {
   "metadata": {
    "ExecuteTime": {
     "end_time": "2025-09-30T12:37:43.093348Z",
     "start_time": "2025-09-30T12:37:43.086827Z"
    }
   },
   "cell_type": "code",
   "source": [
    "# 生成数据集\n",
    "max_degree = 20  # 多项式的最大阶数\n",
    "n_train, n_test = 100, 100  # 训练和测试数据集大小\n",
    "true_w = np.zeros(max_degree)  # 分配大量的空间\n",
    "true_w[0:4] = np.array([5, 1.2, -3.4, 5.6])\n",
    "\n",
    "features = np.random.normal(size=(n_train + n_test, 1))\n",
    "np.random.shuffle(features)\n",
    "poly_features = np.power(features, np.arange(max_degree).reshape(1, -1))\n",
    "for i in range(max_degree):\n",
    "    poly_features[:, i] /= math.gamma(i + 1)  # gamma(n)=(n-1)!\n",
    "# labels的维度:(n_train+n_test,)\n",
    "labels = np.dot(poly_features, true_w)\n",
    "labels += np.random.normal(scale=0.1, size=labels.shape)"
   ],
   "id": "9fb09a7ce8d6d407",
   "outputs": [],
   "execution_count": 2
  },
  {
   "metadata": {
    "ExecuteTime": {
     "end_time": "2025-09-30T12:40:51.526547Z",
     "start_time": "2025-09-30T12:40:51.516709Z"
    }
   },
   "cell_type": "code",
   "source": [
    "# NumPy ndarray转换为tensor\n",
    "true_w, features, poly_features, labels = [torch.tensor(x, dtype=\n",
    "    torch.float32) for x in [true_w, features, poly_features, labels]]\n",
    "\n",
    "features[:2], poly_features[:2, :], labels[:2]"
   ],
   "id": "709f8d92ab022c44",
   "outputs": [
    {
     "data": {
      "text/plain": [
       "(tensor([[ 0.3781],\n",
       "         [-0.6509]]),\n",
       " tensor([[ 1.0000e+00,  3.7806e-01,  7.1464e-02,  9.0059e-03,  8.5119e-04,\n",
       "           6.4360e-05,  4.0553e-06,  2.1902e-07,  1.0350e-08,  4.3479e-10,\n",
       "           1.6438e-11,  5.6494e-13,  1.7798e-14,  5.1761e-16,  1.3978e-17,\n",
       "           3.5229e-19,  8.3242e-21,  1.8512e-22,  3.8881e-24,  7.7365e-26],\n",
       "         [ 1.0000e+00, -6.5087e-01,  2.1181e-01, -4.5954e-02,  7.4775e-03,\n",
       "          -9.7336e-04,  1.0559e-04, -9.8177e-06,  7.9875e-07, -5.7764e-08,\n",
       "           3.7597e-09, -2.2246e-10,  1.2066e-11, -6.0410e-13,  2.8085e-14,\n",
       "          -1.2186e-15,  4.9573e-17, -1.8979e-18,  6.8628e-20, -2.3509e-21]]),\n",
       " tensor([5.1653, 3.2700]))"
      ]
     },
     "execution_count": 3,
     "metadata": {},
     "output_type": "execute_result"
    }
   ],
   "execution_count": 3
  },
  {
   "metadata": {
    "ExecuteTime": {
     "end_time": "2025-09-30T12:44:54.024176Z",
     "start_time": "2025-09-30T12:44:54.019677Z"
    }
   },
   "cell_type": "code",
   "source": [
    "# 训练和测试模型\n",
    "def evaluate_loss(net, data_iter, loss):  #@save\n",
    "    \"\"\"评估给定数据集上模型的损失\"\"\"\n",
    "    metric = d2l.Accumulator(2)  # 损失的总和,样本数量\n",
    "    for X, y in data_iter:\n",
    "        out = net(X)\n",
    "        y = y.reshape(out.shape)\n",
    "        l = loss(out, y)\n",
    "        metric.add(l.sum(), l.numel())\n",
    "    return metric[0] / metric[1]"
   ],
   "id": "72c6811b44e5094f",
   "outputs": [],
   "execution_count": 4
  },
  {
   "metadata": {
    "ExecuteTime": {
     "end_time": "2025-09-30T12:48:34.827070Z",
     "start_time": "2025-09-30T12:48:34.819571Z"
    }
   },
   "cell_type": "code",
   "source": [
    "def train(train_features, test_features, train_labels, test_labels,\n",
    "          num_epochs=400):\n",
    "    loss = nn.MSELoss(reduction='none')\n",
    "    input_shape = train_features.shape[-1]\n",
    "    # 不设置偏置，因为我们已经在多项式中实现了它\n",
    "    net = nn.Sequential(nn.Linear(input_shape, 1, bias=False))\n",
    "    batch_size = min(10, train_labels.shape[0])\n",
    "    train_iter = d2l.load_array((train_features, train_labels.reshape(-1,1)),\n",
    "                                batch_size)\n",
    "    test_iter = d2l.load_array((test_features, test_labels.reshape(-1,1)),\n",
    "                               batch_size, is_train=False)\n",
    "    trainer = torch.optim.SGD(net.parameters(), lr=0.01)\n",
    "    animator = d2l.Animator(xlabel='epoch', ylabel='loss', yscale='log',\n",
    "                            xlim=[1, num_epochs], ylim=[1e-3, 1e2],\n",
    "                            legend=['train', 'test'])\n",
    "    for epoch in range(num_epochs):\n",
    "        d2l.train_epoch_ch3(net, train_iter, loss, trainer)\n",
    "        if epoch == 0 or (epoch + 1) % 20 == 0:\n",
    "            animator.add(epoch + 1, (evaluate_loss(net, train_iter, loss),\n",
    "                                     evaluate_loss(net, test_iter, loss)))\n",
    "    print('weight:', net[0].weight.data.numpy())"
   ],
   "id": "57608981bfa834cf",
   "outputs": [],
   "execution_count": 5
  },
  {
   "metadata": {},
   "cell_type": "code",
   "outputs": [],
   "execution_count": null,
   "source": "",
   "id": "88a3f6080d6c9c5d"
  }
 ],
 "metadata": {
  "kernelspec": {
   "display_name": "Python 3",
   "language": "python",
   "name": "python3"
  },
  "language_info": {
   "codemirror_mode": {
    "name": "ipython",
    "version": 2
   },
   "file_extension": ".py",
   "mimetype": "text/x-python",
   "name": "python",
   "nbconvert_exporter": "python",
   "pygments_lexer": "ipython2",
   "version": "2.7.6"
  }
 },
 "nbformat": 4,
 "nbformat_minor": 5
}
