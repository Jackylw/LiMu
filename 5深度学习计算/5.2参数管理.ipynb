{
 "cells": [
  {
   "cell_type": "code",
   "id": "initial_id",
   "metadata": {
    "collapsed": true,
    "ExecuteTime": {
     "end_time": "2025-10-09T06:15:29.644905Z",
     "start_time": "2025-10-09T06:15:29.639334Z"
    }
   },
   "source": [
    "import torch\n",
    "from torch import nn\n",
    "\n",
    "# 单隐藏层的多层感知机\n",
    "net = nn.Sequential(nn.Linear(4, 8), nn.ReLU(), nn.Linear(8, 1))\n",
    "X = torch.rand(size=(2, 4))\n",
    "print(net(X))"
   ],
   "outputs": [
    {
     "name": "stdout",
     "output_type": "stream",
     "text": [
      "tensor([[-0.0800],\n",
      "        [-0.1247]], grad_fn=<AddmmBackward0>)\n"
     ]
    }
   ],
   "execution_count": 2
  },
  {
   "metadata": {
    "ExecuteTime": {
     "end_time": "2025-10-09T06:16:35.039996Z",
     "start_time": "2025-10-09T06:16:35.035339Z"
    }
   },
   "cell_type": "code",
   "source": [
    "# 参数访问\n",
    "# 通过索引访问模型的任意层\n",
    "# 检查第二个全连接层参数\n",
    "print(net[2].state_dict())"
   ],
   "id": "12749dfd6e23dd23",
   "outputs": [
    {
     "name": "stdout",
     "output_type": "stream",
     "text": [
      "OrderedDict([('weight', tensor([[-0.1571,  0.1150,  0.1987,  0.2166, -0.0739,  0.2368, -0.1162,  0.2392]])), ('bias', tensor([-0.1917]))])\n"
     ]
    }
   ],
   "execution_count": 3
  },
  {
   "metadata": {
    "ExecuteTime": {
     "end_time": "2025-10-09T06:19:43.344467Z",
     "start_time": "2025-10-09T06:19:43.339502Z"
    }
   },
   "cell_type": "code",
   "source": [
    "# 目标参数\n",
    "# 提取第二个全连接层的偏置\n",
    "print(type(net[2].bias))\n",
    "print(net[2].bias)\n",
    "print(net[2].bias.data)\n",
    "# 没有调用反向传播之前，参数的梯度是None\n",
    "print(net[2].bias.grad == None)"
   ],
   "id": "54371a788f74e414",
   "outputs": [
    {
     "name": "stdout",
     "output_type": "stream",
     "text": [
      "<class 'torch.nn.parameter.Parameter'>\n",
      "Parameter containing:\n",
      "tensor([-0.1917], requires_grad=True)\n",
      "tensor([-0.1917])\n",
      "True\n"
     ]
    }
   ],
   "execution_count": 5
  },
  {
   "metadata": {
    "ExecuteTime": {
     "end_time": "2025-10-09T06:22:53.954399Z",
     "start_time": "2025-10-09T06:22:53.950131Z"
    }
   },
   "cell_type": "code",
   "source": [
    "# 一次性访问所有参数\n",
    "# 遍历第一个子模块的所有可学习参数\n",
    "print(*[(name, param.shape) for name, param in net[0].named_parameters()])\n",
    "# 遍历所有可学习参数\n",
    "print(*[(name, param.shape) for name, param in net.named_parameters()])"
   ],
   "id": "8e19542fe88137ec",
   "outputs": [
    {
     "name": "stdout",
     "output_type": "stream",
     "text": [
      "('weight', torch.Size([8, 4])) ('bias', torch.Size([8]))\n",
      "('0.weight', torch.Size([8, 4])) ('0.bias', torch.Size([8])) ('2.weight', torch.Size([1, 8])) ('2.bias', torch.Size([1]))\n"
     ]
    }
   ],
   "execution_count": 7
  },
  {
   "metadata": {
    "ExecuteTime": {
     "end_time": "2025-10-09T06:24:17.249258Z",
     "start_time": "2025-10-09T06:24:17.242395Z"
    }
   },
   "cell_type": "code",
   "source": [
    "# 访问网络参数的其他方式\n",
    "net.state_dict()['2.bias'].data"
   ],
   "id": "f65edfe5a7e37d1b",
   "outputs": [
    {
     "data": {
      "text/plain": [
       "tensor([-0.1917])"
      ]
     },
     "execution_count": 8,
     "metadata": {},
     "output_type": "execute_result"
    }
   ],
   "execution_count": 8
  },
  {
   "metadata": {
    "ExecuteTime": {
     "end_time": "2025-10-09T06:26:19.087420Z",
     "start_time": "2025-10-09T06:26:19.079714Z"
    }
   },
   "cell_type": "code",
   "source": [
    "# 从嵌套块收集参数\n",
    "def block1():\n",
    "    return nn.Sequential(nn.Linear(4, 8), nn.ReLU(),\n",
    "                         nn.Linear(8, 4), nn.ReLU())\n",
    "\n",
    "\n",
    "def block2():\n",
    "    net = nn.Sequential()\n",
    "    # 开始嵌套\n",
    "    for i in range(4):\n",
    "        net.add_module(f'block {i}', block1())\n",
    "    return net\n",
    "\n",
    "\n",
    "rgnet = nn.Sequential(block2(), nn.Linear(4, 1))\n",
    "print(rgnet(X))"
   ],
   "id": "b3558fafdd34d045",
   "outputs": [
    {
     "name": "stdout",
     "output_type": "stream",
     "text": [
      "tensor([[0.1195],\n",
      "        [0.1195]], grad_fn=<AddmmBackward0>)\n"
     ]
    }
   ],
   "execution_count": 9
  },
  {
   "metadata": {
    "ExecuteTime": {
     "end_time": "2025-10-09T06:26:53.887992Z",
     "start_time": "2025-10-09T06:26:53.884845Z"
    }
   },
   "cell_type": "code",
   "source": [
    "# 查看该嵌套块是如何工作的\n",
    "print(rgnet)"
   ],
   "id": "fabbe6fadd207651",
   "outputs": [
    {
     "name": "stdout",
     "output_type": "stream",
     "text": [
      "Sequential(\n",
      "  (0): Sequential(\n",
      "    (block 0): Sequential(\n",
      "      (0): Linear(in_features=4, out_features=8, bias=True)\n",
      "      (1): ReLU()\n",
      "      (2): Linear(in_features=8, out_features=4, bias=True)\n",
      "      (3): ReLU()\n",
      "    )\n",
      "    (block 1): Sequential(\n",
      "      (0): Linear(in_features=4, out_features=8, bias=True)\n",
      "      (1): ReLU()\n",
      "      (2): Linear(in_features=8, out_features=4, bias=True)\n",
      "      (3): ReLU()\n",
      "    )\n",
      "    (block 2): Sequential(\n",
      "      (0): Linear(in_features=4, out_features=8, bias=True)\n",
      "      (1): ReLU()\n",
      "      (2): Linear(in_features=8, out_features=4, bias=True)\n",
      "      (3): ReLU()\n",
      "    )\n",
      "    (block 3): Sequential(\n",
      "      (0): Linear(in_features=4, out_features=8, bias=True)\n",
      "      (1): ReLU()\n",
      "      (2): Linear(in_features=8, out_features=4, bias=True)\n",
      "      (3): ReLU()\n",
      "    )\n",
      "  )\n",
      "  (1): Linear(in_features=4, out_features=1, bias=True)\n",
      ")\n"
     ]
    }
   ],
   "execution_count": 10
  },
  {
   "metadata": {
    "ExecuteTime": {
     "end_time": "2025-10-09T06:27:47.735727Z",
     "start_time": "2025-10-09T06:27:47.731850Z"
    }
   },
   "cell_type": "code",
   "source": [
    "# 访问第一个块中，第二个子块，第一层的偏置项\n",
    "print(rgnet[0][1][0].bias)"
   ],
   "id": "376fd46bf784492c",
   "outputs": [
    {
     "name": "stdout",
     "output_type": "stream",
     "text": [
      "Parameter containing:\n",
      "tensor([-0.4909, -0.3902, -0.2360, -0.2115,  0.1225, -0.3940, -0.2918,  0.0433],\n",
      "       requires_grad=True)\n"
     ]
    }
   ],
   "execution_count": 11
  },
  {
   "metadata": {
    "ExecuteTime": {
     "end_time": "2025-10-09T06:31:56.394457Z",
     "start_time": "2025-10-09T06:31:56.388595Z"
    }
   },
   "cell_type": "code",
   "source": [
    "# 内置初始化\n",
    "def init_normal(m):\n",
    "    if type(m) == nn.Linear:\n",
    "        nn.init.normal_(m.weight, mean=0, std=0.01)  # 将权重初始化为标准差 0.01的高斯随机变量\n",
    "        nn.init.zeros_(m.bias)  # 将偏差初始化为零\n",
    "\n",
    "\n",
    "net.apply(init_normal)\n",
    "print(net[0].weight.data[0], net[0].bias.data[0])"
   ],
   "id": "ce91cd163fd3bb87",
   "outputs": [
    {
     "name": "stdout",
     "output_type": "stream",
     "text": [
      "tensor([-0.0118,  0.0106,  0.0060,  0.0036]) tensor(0.)\n"
     ]
    }
   ],
   "execution_count": 12
  },
  {
   "metadata": {
    "ExecuteTime": {
     "end_time": "2025-10-09T06:32:33.813018Z",
     "start_time": "2025-10-09T06:32:33.807470Z"
    }
   },
   "cell_type": "code",
   "source": [
    "# 初始化为给定常数\n",
    "def init_constant(m):\n",
    "    if type(m) == nn.Linear:\n",
    "        nn.init.constant_(m.weight, 1)  # 将权重初始化为1\n",
    "        nn.init.zeros_(m.bias)\n",
    "\n",
    "\n",
    "net.apply(init_constant)\n",
    "print(net[0].weight.data[0], net[0].bias.data[0])"
   ],
   "id": "dfab098218386875",
   "outputs": [
    {
     "name": "stdout",
     "output_type": "stream",
     "text": [
      "tensor([1., 1., 1., 1.]) tensor(0.)\n"
     ]
    }
   ],
   "execution_count": 13
  },
  {
   "metadata": {
    "ExecuteTime": {
     "end_time": "2025-10-09T06:34:34.405387Z",
     "start_time": "2025-10-09T06:34:34.398675Z"
    }
   },
   "cell_type": "code",
   "source": [
    "# 采用 Xavier 初始化第一个神经网络层\n",
    "# 将第三个神经网络层初始化为 42\n",
    "def init_xavier(m):\n",
    "    if type(m) == nn.Linear:\n",
    "        nn.init.xavier_uniform_(m.weight)\n",
    "\n",
    "\n",
    "def init_42(m):\n",
    "    if type(m) == nn.Linear:\n",
    "        nn.init.constant_(m.weight, 42)\n",
    "\n",
    "\n",
    "net[0].apply(init_xavier)\n",
    "net[2].apply(init_42)\n",
    "print(net[0].weight.data[0])\n",
    "print(net[2].weight.data)"
   ],
   "id": "5a4da1d3a5fc44b8",
   "outputs": [
    {
     "name": "stdout",
     "output_type": "stream",
     "text": [
      "tensor([-0.2979,  0.4898, -0.5295, -0.4871])\n",
      "tensor([[42., 42., 42., 42., 42., 42., 42., 42.]])\n"
     ]
    }
   ],
   "execution_count": 14
  },
  {
   "metadata": {
    "ExecuteTime": {
     "end_time": "2025-10-09T06:37:39.537589Z",
     "start_time": "2025-10-09T06:37:39.530292Z"
    }
   },
   "cell_type": "code",
   "source": [
    "# 自定义初始化\n",
    "def my_init(m):\n",
    "    if type(m) == nn.Linear:\n",
    "        print(\"Init\", *[(name, param.shape)\n",
    "                        for name, param in m.named_parameters()][0])\n",
    "        nn.init.uniform_(m.weight, -10, 10)\n",
    "        # 保留绝对值大于5的权重，其余权重设置为0\n",
    "        m.weight.data *= m.weight.data.abs() > 5\n",
    "\n",
    "\n",
    "net.apply(my_init)\n",
    "print(net[0].weight.data[0])"
   ],
   "id": "6e646b32beb6f055",
   "outputs": [
    {
     "name": "stdout",
     "output_type": "stream",
     "text": [
      "Init weight torch.Size([8, 4])\n",
      "Init weight torch.Size([1, 8])\n",
      "tensor([-9.1541,  0.0000,  0.0000, -9.6616])\n"
     ]
    }
   ],
   "execution_count": 17
  },
  {
   "metadata": {
    "ExecuteTime": {
     "end_time": "2025-10-09T06:38:02.981639Z",
     "start_time": "2025-10-09T06:38:02.973358Z"
    }
   },
   "cell_type": "code",
   "source": [
    "# 我们可以始终直接设置参数\n",
    "net[0].weight.data[:] += 1\n",
    "net[0].weight.data[0, 0] = 42\n",
    "net[0].weight.data[0]"
   ],
   "id": "1f9454e14ec0bbf",
   "outputs": [
    {
     "data": {
      "text/plain": [
       "tensor([42.0000,  1.0000,  1.0000, -8.6616])"
      ]
     },
     "execution_count": 18,
     "metadata": {},
     "output_type": "execute_result"
    }
   ],
   "execution_count": 18
  },
  {
   "metadata": {
    "ExecuteTime": {
     "end_time": "2025-10-09T06:41:29.676480Z",
     "start_time": "2025-10-09T06:41:29.668858Z"
    }
   },
   "cell_type": "code",
   "source": [
    "# 参数绑定/共享参数\n",
    "shared = nn.Linear(8, 8)\n",
    "net = nn.Sequential(nn.Linear(4, 8), nn.ReLU(),\n",
    "                    shared, nn.ReLU(), shared,\n",
    "                    nn.ReLU(), nn.Linear(8, 1))\n",
    "print(net(X))\n",
    "# 检查参数是否相同\n",
    "print(net[2].weight.data[0] ==  net[4].weight.data[0])\n",
    "net[2].weight.data[0,0] = 100\n",
    "# 确保对象是同一个，而不仅仅是一个值\n",
    "print(net[2].weight.data[0] == net[4].weight.data[0])"
   ],
   "id": "9a0d32c904a3f0f4",
   "outputs": [
    {
     "name": "stdout",
     "output_type": "stream",
     "text": [
      "tensor([[0.2342],\n",
      "        [0.2371]], grad_fn=<AddmmBackward0>)\n",
      "tensor([True, True, True, True, True, True, True, True])\n",
      "tensor([True, True, True, True, True, True, True, True])\n"
     ]
    }
   ],
   "execution_count": 22
  },
  {
   "metadata": {},
   "cell_type": "code",
   "outputs": [],
   "execution_count": null,
   "source": "",
   "id": "ff2aa57f6d460a80"
  }
 ],
 "metadata": {
  "kernelspec": {
   "display_name": "Python 3",
   "language": "python",
   "name": "python3"
  },
  "language_info": {
   "codemirror_mode": {
    "name": "ipython",
    "version": 2
   },
   "file_extension": ".py",
   "mimetype": "text/x-python",
   "name": "python",
   "nbconvert_exporter": "python",
   "pygments_lexer": "ipython2",
   "version": "2.7.6"
  }
 },
 "nbformat": 4,
 "nbformat_minor": 5
}
