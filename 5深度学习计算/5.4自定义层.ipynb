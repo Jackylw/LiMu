{
 "cells": [
  {
   "cell_type": "code",
   "id": "initial_id",
   "metadata": {
    "collapsed": true,
    "ExecuteTime": {
     "end_time": "2025-10-09T07:11:21.298315Z",
     "start_time": "2025-10-09T07:11:19.664338Z"
    }
   },
   "source": [
    "# 不带参数的层\n",
    "import torch\n",
    "import torch.nn.functional as F\n",
    "from torch import nn\n",
    "\n",
    "\n",
    "class CenteredLayer(nn.Module):\n",
    "    def __init__(self):\n",
    "        super().__init__()\n",
    "\n",
    "    def forward(self, X):\n",
    "        return X - X.mean()"
   ],
   "outputs": [],
   "execution_count": 1
  },
  {
   "metadata": {
    "ExecuteTime": {
     "end_time": "2025-10-09T07:35:38.248642Z",
     "start_time": "2025-10-09T07:35:38.243284Z"
    }
   },
   "cell_type": "code",
   "source": [
    "layer = CenteredLayer()\n",
    "layer(torch.FloatTensor([1,2,3,4,5]))"
   ],
   "id": "344d291a47beea3",
   "outputs": [
    {
     "data": {
      "text/plain": [
       "tensor([-2., -1.,  0.,  1.,  2.])"
      ]
     },
     "execution_count": 4,
     "metadata": {},
     "output_type": "execute_result"
    }
   ],
   "execution_count": 4
  },
  {
   "metadata": {
    "ExecuteTime": {
     "end_time": "2025-10-09T07:37:14.374450Z",
     "start_time": "2025-10-09T07:37:14.370792Z"
    }
   },
   "cell_type": "code",
   "source": "net = nn.Sequential(nn.Linear(8,128), CenteredLayer())",
   "id": "40908e0cead3f438",
   "outputs": [],
   "execution_count": 5
  },
  {
   "metadata": {
    "ExecuteTime": {
     "end_time": "2025-10-09T07:37:36.283473Z",
     "start_time": "2025-10-09T07:37:36.278313Z"
    }
   },
   "cell_type": "code",
   "source": [
    "Y = net(torch.rand(4, 8))\n",
    "Y.mean()"
   ],
   "id": "19c0048b0664210d",
   "outputs": [
    {
     "data": {
      "text/plain": [
       "tensor(3.2596e-09, grad_fn=<MeanBackward0>)"
      ]
     },
     "execution_count": 7,
     "metadata": {},
     "output_type": "execute_result"
    }
   ],
   "execution_count": 7
  },
  {
   "metadata": {
    "ExecuteTime": {
     "end_time": "2025-10-09T07:39:46.184904Z",
     "start_time": "2025-10-09T07:39:46.180504Z"
    }
   },
   "cell_type": "code",
   "source": [
    "# 带参数的层\n",
    "class MyLinear(nn.Module):\n",
    "    def __init__(self, in_units, units):\n",
    "        super().__init__()\n",
    "        self.weight = nn.Parameter(torch.randn(in_units, units))\n",
    "        self.bias = nn.Parameter(torch.randn(units,))\n",
    "    def forward(self, X):\n",
    "        linear = torch.matmul(X, self.weight.data) + self.bias.data\n",
    "        return F.relu(linear)"
   ],
   "id": "3c2e4772311b2171",
   "outputs": [],
   "execution_count": 8
  },
  {
   "metadata": {
    "ExecuteTime": {
     "end_time": "2025-10-09T07:40:01.678024Z",
     "start_time": "2025-10-09T07:40:01.672960Z"
    }
   },
   "cell_type": "code",
   "source": [
    "linear = MyLinear(5, 3)\n",
    "linear.weight"
   ],
   "id": "c62006b5941f8932",
   "outputs": [
    {
     "data": {
      "text/plain": [
       "Parameter containing:\n",
       "tensor([[ 0.7311,  0.1155, -0.6554],\n",
       "        [-0.3646, -0.5694,  0.9163],\n",
       "        [ 0.7409, -0.5855, -0.6427],\n",
       "        [-0.4115,  1.3330,  0.9422],\n",
       "        [ 1.3239, -1.2489,  0.3772]], requires_grad=True)"
      ]
     },
     "execution_count": 9,
     "metadata": {},
     "output_type": "execute_result"
    }
   ],
   "execution_count": 9
  },
  {
   "metadata": {
    "ExecuteTime": {
     "end_time": "2025-10-09T07:41:15.567780Z",
     "start_time": "2025-10-09T07:41:15.562683Z"
    }
   },
   "cell_type": "code",
   "source": "linear(torch.rand(2, 5))",
   "id": "c39777a01041b86c",
   "outputs": [
    {
     "data": {
      "text/plain": [
       "tensor([[2.6475, 0.0000, 0.8106],\n",
       "        [2.0347, 0.4490, 0.5860]])"
      ]
     },
     "execution_count": 10,
     "metadata": {},
     "output_type": "execute_result"
    }
   ],
   "execution_count": 10
  },
  {
   "metadata": {
    "ExecuteTime": {
     "end_time": "2025-10-09T07:41:36.842665Z",
     "start_time": "2025-10-09T07:41:36.837052Z"
    }
   },
   "cell_type": "code",
   "source": [
    "net = nn.Sequential(MyLinear(64, 8), MyLinear(8, 1))\n",
    "net(torch.rand(2, 64))"
   ],
   "id": "5fa3f7065fefdbc8",
   "outputs": [
    {
     "data": {
      "text/plain": [
       "tensor([[0.9059],\n",
       "        [0.3849]])"
      ]
     },
     "execution_count": 11,
     "metadata": {},
     "output_type": "execute_result"
    }
   ],
   "execution_count": 11
  },
  {
   "metadata": {},
   "cell_type": "code",
   "outputs": [],
   "execution_count": null,
   "source": "",
   "id": "f6849c4e93f22506"
  }
 ],
 "metadata": {
  "kernelspec": {
   "display_name": "Python 3",
   "language": "python",
   "name": "python3"
  },
  "language_info": {
   "codemirror_mode": {
    "name": "ipython",
    "version": 2
   },
   "file_extension": ".py",
   "mimetype": "text/x-python",
   "name": "python",
   "nbconvert_exporter": "python",
   "pygments_lexer": "ipython2",
   "version": "2.7.6"
  }
 },
 "nbformat": 4,
 "nbformat_minor": 5
}
