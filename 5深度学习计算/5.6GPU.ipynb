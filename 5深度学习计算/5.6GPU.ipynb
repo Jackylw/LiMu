{
 "cells": [
  {
   "cell_type": "code",
   "id": "initial_id",
   "metadata": {
    "collapsed": true,
    "ExecuteTime": {
     "end_time": "2025-10-09T11:53:34.759260Z",
     "start_time": "2025-10-09T11:53:33.889862Z"
    }
   },
   "source": [
    "import torch\n",
    "from torch import nn\n",
    "\n",
    "torch.device('cpu'), torch.device('cuda'), torch.device('cuda:1')"
   ],
   "outputs": [
    {
     "data": {
      "text/plain": [
       "(device(type='cpu'), device(type='cuda'), device(type='cuda', index=1))"
      ]
     },
     "execution_count": 2,
     "metadata": {},
     "output_type": "execute_result"
    }
   ],
   "execution_count": 2
  },
  {
   "metadata": {
    "ExecuteTime": {
     "end_time": "2025-10-09T11:53:35.504546Z",
     "start_time": "2025-10-09T11:53:35.459207Z"
    }
   },
   "cell_type": "code",
   "source": [
    "# 查询GPU数量\n",
    "torch.cuda.device_count()"
   ],
   "id": "a5628b4dcf1a10ce",
   "outputs": [
    {
     "data": {
      "text/plain": [
       "1"
      ]
     },
     "execution_count": 3,
     "metadata": {},
     "output_type": "execute_result"
    }
   ],
   "execution_count": 3
  },
  {
   "metadata": {
    "ExecuteTime": {
     "end_time": "2025-10-09T11:54:46.357369Z",
     "start_time": "2025-10-09T11:54:46.352332Z"
    }
   },
   "cell_type": "code",
   "source": [
    "# 两个函数允许我们在不存在所需所有GPU的情况下运行代码，以避免报错\n",
    "def try_gpu(i=0):  #@save\n",
    "    \"\"\"如果存在，则返回gpu(i)，否则返回cpu()\"\"\"\n",
    "    if torch.cuda.device_count() >= i + 1:\n",
    "        return torch.device(f'cuda:{i}')\n",
    "    return torch.device('cpu')\n",
    "\n",
    "\n",
    "def try_all_gpus():  #@save\n",
    "    \"\"\"返回所有可用的GPU，如果没有GPU，则返回[cpu(),]\"\"\"\n",
    "    devices = [torch.device(f'cuda:{i}')\n",
    "               for i in range(torch.cuda.device_count())]\n",
    "    return devices if devices else [torch.device('cpu')]\n",
    "\n",
    "\n",
    "try_gpu(), try_gpu(10), try_all_gpus()"
   ],
   "id": "e5fec9828cf748f0",
   "outputs": [
    {
     "data": {
      "text/plain": [
       "(device(type='cuda', index=0),\n",
       " device(type='cpu'),\n",
       " [device(type='cuda', index=0)])"
      ]
     },
     "execution_count": 4,
     "metadata": {},
     "output_type": "execute_result"
    }
   ],
   "execution_count": 4
  },
  {
   "metadata": {
    "ExecuteTime": {
     "end_time": "2025-10-09T11:55:34.701094Z",
     "start_time": "2025-10-09T11:55:34.696090Z"
    }
   },
   "cell_type": "code",
   "source": [
    "# 张量在cpu上创建的\n",
    "x = torch.tensor([1, 2, 3])\n",
    "x.device"
   ],
   "id": "71e7c1ad48ffc9c8",
   "outputs": [
    {
     "data": {
      "text/plain": [
       "device(type='cpu')"
      ]
     },
     "execution_count": 5,
     "metadata": {},
     "output_type": "execute_result"
    }
   ],
   "execution_count": 5
  },
  {
   "metadata": {
    "ExecuteTime": {
     "end_time": "2025-10-09T11:56:03.398045Z",
     "start_time": "2025-10-09T11:56:03.392707Z"
    }
   },
   "cell_type": "code",
   "source": [
    "# 存储在gpu上\n",
    "X = torch.ones(2, 3, device=try_gpu())\n",
    "print(X)"
   ],
   "id": "3f4be2fa1d628261",
   "outputs": [
    {
     "name": "stdout",
     "output_type": "stream",
     "text": [
      "tensor([[1., 1., 1.],\n",
      "        [1., 1., 1.]], device='cuda:0')\n"
     ]
    }
   ],
   "execution_count": 7
  },
  {
   "metadata": {
    "ExecuteTime": {
     "end_time": "2025-10-09T11:57:54.678965Z",
     "start_time": "2025-10-09T11:57:54.631054Z"
    }
   },
   "cell_type": "code",
   "source": [
    "Y = torch.rand(2, 3, device=try_gpu(0))\n",
    "print(Y)"
   ],
   "id": "244ac01175d99692",
   "outputs": [
    {
     "name": "stdout",
     "output_type": "stream",
     "text": [
      "tensor([[0.8455, 0.5702, 0.0653],\n",
      "        [0.7537, 0.0892, 0.5836]], device='cuda:0')\n"
     ]
    }
   ],
   "execution_count": 13
  },
  {
   "metadata": {
    "ExecuteTime": {
     "end_time": "2025-10-09T11:58:06.644363Z",
     "start_time": "2025-10-09T11:58:06.634686Z"
    }
   },
   "cell_type": "code",
   "source": [
    "Z = X.cuda(0)\n",
    "print(X)\n",
    "print(Z)"
   ],
   "id": "65d8ac7377e9ec7",
   "outputs": [
    {
     "name": "stdout",
     "output_type": "stream",
     "text": [
      "tensor([[1., 1., 1.],\n",
      "        [1., 1., 1.]], device='cuda:0')\n",
      "tensor([[1., 1., 1.],\n",
      "        [1., 1., 1.]], device='cuda:0')\n"
     ]
    }
   ],
   "execution_count": 14
  },
  {
   "metadata": {
    "ExecuteTime": {
     "end_time": "2025-10-09T11:58:10.261676Z",
     "start_time": "2025-10-09T11:58:10.242938Z"
    }
   },
   "cell_type": "code",
   "source": "Y + Z",
   "id": "b555a92dda4a3274",
   "outputs": [
    {
     "data": {
      "text/plain": [
       "tensor([[1.8455, 1.5702, 1.0653],\n",
       "        [1.7537, 1.0892, 1.5836]], device='cuda:0')"
      ]
     },
     "execution_count": 15,
     "metadata": {},
     "output_type": "execute_result"
    }
   ],
   "execution_count": 15
  },
  {
   "metadata": {
    "ExecuteTime": {
     "end_time": "2025-10-09T11:59:38.192546Z",
     "start_time": "2025-10-09T11:59:38.153822Z"
    }
   },
   "cell_type": "code",
   "source": [
    "# 将代码放在gpu上\n",
    "net = nn.Sequential(nn.Linear(3, 1))\n",
    "net = net.to(device=try_gpu())"
   ],
   "id": "d5133294bb72b758",
   "outputs": [],
   "execution_count": 16
  },
  {
   "metadata": {
    "ExecuteTime": {
     "end_time": "2025-10-09T11:59:45.424060Z",
     "start_time": "2025-10-09T11:59:45.306497Z"
    }
   },
   "cell_type": "code",
   "source": "net(X)",
   "id": "1b054a9eadeeaddd",
   "outputs": [
    {
     "data": {
      "text/plain": [
       "tensor([[-0.2552],\n",
       "        [-0.2552]], device='cuda:0', grad_fn=<AddmmBackward0>)"
      ]
     },
     "execution_count": 17,
     "metadata": {},
     "output_type": "execute_result"
    }
   ],
   "execution_count": 17
  },
  {
   "metadata": {
    "ExecuteTime": {
     "end_time": "2025-10-09T11:59:50.681052Z",
     "start_time": "2025-10-09T11:59:50.677615Z"
    }
   },
   "cell_type": "code",
   "source": "net[0].weight.data.device",
   "id": "e4267207c5c53581",
   "outputs": [
    {
     "data": {
      "text/plain": [
       "device(type='cuda', index=0)"
      ]
     },
     "execution_count": 18,
     "metadata": {},
     "output_type": "execute_result"
    }
   ],
   "execution_count": 18
  },
  {
   "metadata": {},
   "cell_type": "code",
   "outputs": [],
   "execution_count": null,
   "source": "",
   "id": "8e53666d27337342"
  }
 ],
 "metadata": {
  "kernelspec": {
   "display_name": "Python 3",
   "language": "python",
   "name": "python3"
  },
  "language_info": {
   "codemirror_mode": {
    "name": "ipython",
    "version": 2
   },
   "file_extension": ".py",
   "mimetype": "text/x-python",
   "name": "python",
   "nbconvert_exporter": "python",
   "pygments_lexer": "ipython2",
   "version": "2.7.6"
  }
 },
 "nbformat": 4,
 "nbformat_minor": 5
}
