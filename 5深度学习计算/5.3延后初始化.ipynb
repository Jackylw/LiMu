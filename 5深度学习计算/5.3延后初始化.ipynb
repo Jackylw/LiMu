{
 "cells": [
  {
   "cell_type": "code",
   "id": "initial_id",
   "metadata": {
    "collapsed": true,
    "ExecuteTime": {
     "end_time": "2025-10-09T07:09:01.600600Z",
     "start_time": "2025-10-09T07:09:01.589917Z"
    }
   },
   "source": [
    "import torch\n",
    "import torch.nn as nn\n",
    "\n",
    "# 定义一个包含 LazyLinear 的模型（无需指定 in_features）\n",
    "class LazyMLP(nn.Module):\n",
    "    def __init__(self):\n",
    "        super().__init__()\n",
    "        self.linear1 = nn.LazyLinear(64)   # 输出64维，输入维数未知\n",
    "        self.relu = nn.ReLU()\n",
    "        self.linear2 = nn.LazyLinear(10)   # 输出10维\n",
    "\n",
    "    def forward(self, x):\n",
    "        x = self.linear1(x)\n",
    "        x = self.relu(x)\n",
    "        x = self.linear2(x)\n",
    "        return x\n",
    "\n",
    "# 创建模型（此时参数尚未初始化！）\n",
    "model = LazyMLP()\n",
    "\n",
    "# 查看参数：此时 named_parameters() 为空！\n",
    "print(\"Before forward:\", list(model.named_parameters()))  # []\n",
    "\n",
    "# 创建一个 batch 的输入数据（例如：batch_size=5, features=20）\n",
    "x = torch.randn(5, 20)\n",
    "\n",
    "# 第一次前向传播：触发 Lazy 模块的参数初始化\n",
    "output = model(x)\n",
    "\n",
    "# 现在参数已经创建好了\n",
    "print(\"After forward:\")\n",
    "for name, param in model.named_parameters():\n",
    "    print(name, param.shape)\n",
    "# 第一次输入 5，20 后，自动推断出 in_features=20，并创建了 64，20 的权重"
   ],
   "outputs": [
    {
     "name": "stdout",
     "output_type": "stream",
     "text": [
      "Before forward: [('linear1.weight', <UninitializedParameter>), ('linear1.bias', <UninitializedParameter>), ('linear2.weight', <UninitializedParameter>), ('linear2.bias', <UninitializedParameter>)]\n",
      "After forward:\n",
      "linear1.weight torch.Size([64, 20])\n",
      "linear1.bias torch.Size([64])\n",
      "linear2.weight torch.Size([10, 64])\n",
      "linear2.bias torch.Size([10])\n"
     ]
    }
   ],
   "execution_count": 3
  },
  {
   "metadata": {},
   "cell_type": "code",
   "outputs": [],
   "execution_count": null,
   "source": "",
   "id": "85e719619d4f6649"
  }
 ],
 "metadata": {
  "kernelspec": {
   "display_name": "Python 3",
   "language": "python",
   "name": "python3"
  },
  "language_info": {
   "codemirror_mode": {
    "name": "ipython",
    "version": 2
   },
   "file_extension": ".py",
   "mimetype": "text/x-python",
   "name": "python",
   "nbconvert_exporter": "python",
   "pygments_lexer": "ipython2",
   "version": "2.7.6"
  }
 },
 "nbformat": 4,
 "nbformat_minor": 5
}
